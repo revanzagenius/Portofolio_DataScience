{
 "cells": [
  {
   "cell_type": "code",
   "execution_count": 3,
   "metadata": {
    "id": "hbNWqIjIs0ws"
   },
   "outputs": [],
   "source": [
    "import pandas as pd"
   ]
  },
  {
   "cell_type": "code",
   "execution_count": 7,
   "metadata": {
    "colab": {
     "base_uri": "https://localhost:8080/"
    },
    "id": "Tov0DQ6MvQYD",
    "outputId": "4063e5dd-5a73-4f88-920a-31ddd6ce680c"
   },
   "outputs": [
    {
     "name": "stdout",
     "output_type": "stream",
     "text": [
      "          cars    cc\n",
      "Merek-1    BMW  3000\n",
      "Merek-2   MINI  4000\n",
      "Merek-3  VOLVO  5000\n"
     ]
    }
   ],
   "source": [
    "mydataset = {\n",
    "    'cars' : ['BMW','MINI','VOLVO'],\n",
    "    'cc'  : [3000,4000,5000]\n",
    "}\n",
    "\n",
    "mydataframe = pd.DataFrame(mydataset, index = ['Merek-1','Merek-2','Merek-3'])\n",
    "print(mydataframe)\n",
    "#print(mydataframe.loc[0])"
   ]
  },
  {
   "cell_type": "code",
   "execution_count": 8,
   "metadata": {
    "colab": {
     "base_uri": "https://localhost:8080/"
    },
    "id": "rYOQNUjIwGOO",
    "outputId": "33638845-5fce-4fcc-b1d3-8169b160274b"
   },
   "outputs": [
    {
     "name": "stdout",
     "output_type": "stream",
     "text": [
      "day-1    1\n",
      "day-2    2\n",
      "day-3    3\n",
      "dtype: int64\n"
     ]
    }
   ],
   "source": [
    "a = [1,2,3]\n",
    "myvar = pd.Series(a, index = ['day-1','day-2','day-3'])\n",
    "print(myvar)"
   ]
  },
  {
   "cell_type": "code",
   "execution_count": 11,
   "metadata": {
    "colab": {
     "base_uri": "https://localhost:8080/"
    },
    "id": "MqmIgAL4zZMv",
    "outputId": "3f6014dd-a552-4ed2-8a97-d33b8846732b"
   },
   "outputs": [
    {
     "name": "stdout",
     "output_type": "stream",
     "text": [
      "day1    420\n",
      "day2    380\n",
      "day3    390\n",
      "dtype: int64\n"
     ]
    }
   ],
   "source": [
    "calories = {\"day1\" : 420,\"day2\" :  380 ,\"day3\" : 390}\n",
    "myvar = pd.Series(calories)\n",
    "print(myvar)"
   ]
  },
  {
   "cell_type": "markdown",
   "metadata": {
    "id": "noUKju1hywN9"
   },
   "source": [
    "Read Dataset"
   ]
  },
  {
   "cell_type": "code",
   "execution_count": 51,
   "metadata": {
    "colab": {
     "base_uri": "https://localhost:8080/"
    },
    "id": "QXggiZlKyVnN",
    "outputId": "d6d765db-94b9-424e-ad77-59074d07e476"
   },
   "outputs": [
    {
     "name": "stdout",
     "output_type": "stream",
     "text": [
      "     Duration  Pulse  Maxpulse  Calories\n",
      "0          60    110       130     409.1\n",
      "1          60    117       145     479.0\n",
      "2          60    103       135     340.0\n",
      "3          45    109       175     282.4\n",
      "4          45    117       148     406.0\n",
      "..        ...    ...       ...       ...\n",
      "164        60    105       140     290.8\n",
      "165        60    110       145     300.0\n",
      "166        60    115       145     310.2\n",
      "167        75    120       150     320.4\n",
      "168        75    125       150     330.4\n",
      "\n",
      "[169 rows x 4 columns]\n",
      "<bound method DataFrame.to_string of      Duration  Pulse  Maxpulse  Calories\n",
      "0          60    110       130     409.1\n",
      "1          60    117       145     479.0\n",
      "2          60    103       135     340.0\n",
      "3          45    109       175     282.4\n",
      "4          45    117       148     406.0\n",
      "..        ...    ...       ...       ...\n",
      "164        60    105       140     290.8\n",
      "165        60    110       145     300.0\n",
      "166        60    115       145     310.2\n",
      "167        75    120       150     320.4\n",
      "168        75    125       150     330.4\n",
      "\n",
      "[169 rows x 4 columns]>\n"
     ]
    }
   ],
   "source": [
    "df = pd.read_csv('data (2).csv')\n",
    "print(df)\n",
    "print(df.to_string)"
   ]
  },
  {
   "cell_type": "code",
   "execution_count": 10,
   "metadata": {
    "colab": {
     "base_uri": "https://localhost:8080/"
    },
    "id": "rua15EHC0qeo",
    "outputId": "0186b411-16c3-4dae-8422-cbcdd1511396"
   },
   "outputs": [
    {
     "name": "stdout",
     "output_type": "stream",
     "text": [
      "    Duration,Pulse,Maxpulse,Calories\n",
      "0                   60,110,130,409.1\n",
      "1                   60,117,145,479.0\n",
      "2                   60,103,135,340.0\n",
      "3                   45,109,175,282.4\n",
      "4                   45,117,148,406.0\n",
      "..                               ...\n",
      "164                 60,105,140,290.8\n",
      "165                 60,110,145,300.0\n",
      "166                 60,115,145,310.2\n",
      "167                 75,120,150,320.4\n",
      "168                 75,125,150,330.4\n",
      "\n",
      "[169 rows x 1 columns]\n"
     ]
    }
   ],
   "source": [
    "df = pd.read_excel('data (2).xlsx')\n",
    "print(df)"
   ]
  },
  {
   "cell_type": "code",
   "execution_count": 37,
   "metadata": {
    "colab": {
     "base_uri": "https://localhost:8080/"
    },
    "id": "5X2XGNTG2flc",
    "outputId": "1de3b531-b034-4194-a2bb-9c81adfa680e"
   },
   "outputs": [
    {
     "name": "stdout",
     "output_type": "stream",
     "text": [
      "   Duration  Pulse  Maxpulse  Calories\n",
      "0        60    110       130     409.1\n",
      "1        60    117       145     479.0\n",
      "2        60    103       135     340.0\n",
      "3        45    109       175     282.4\n",
      "4        45    117       148     406.0\n",
      "5        60    102       127     300.0\n",
      "6        60    110       136     374.0\n",
      "7        45    104       134     253.3\n",
      "8        30    109       133     195.1\n",
      "9        60     98       124     269.0\n",
      "     Duration  Pulse  Maxpulse  Calories\n",
      "159        30     80       120     240.9\n",
      "160        30     85       120     250.4\n",
      "161        45     90       130     260.4\n",
      "162        45     95       130     270.0\n",
      "163        45    100       140     280.9\n",
      "164        60    105       140     290.8\n",
      "165        60    110       145     300.0\n",
      "166        60    115       145     310.2\n",
      "167        75    120       150     320.4\n",
      "168        75    125       150     330.4\n"
     ]
    }
   ],
   "source": [
    "#menampilkan 10 data teratas\n",
    "print(df.head(10))\n",
    "#menampilkan 10 baris di bawah\n",
    "print(df.tail(10))"
   ]
  },
  {
   "cell_type": "code",
   "execution_count": 38,
   "metadata": {
    "colab": {
     "base_uri": "https://localhost:8080/"
    },
    "id": "_B8Sh4j93GvW",
    "outputId": "908d9a04-cc41-4b22-fd6c-5129e792b566"
   },
   "outputs": [
    {
     "name": "stdout",
     "output_type": "stream",
     "text": [
      "<class 'pandas.core.frame.DataFrame'>\n",
      "RangeIndex: 169 entries, 0 to 168\n",
      "Data columns (total 4 columns):\n",
      " #   Column    Non-Null Count  Dtype  \n",
      "---  ------    --------------  -----  \n",
      " 0   Duration  169 non-null    int64  \n",
      " 1   Pulse     169 non-null    int64  \n",
      " 2   Maxpulse  169 non-null    int64  \n",
      " 3   Calories  164 non-null    float64\n",
      "dtypes: float64(1), int64(3)\n",
      "memory usage: 5.4 KB\n",
      "None\n"
     ]
    }
   ],
   "source": [
    "#info\n",
    "print(df.info())"
   ]
  },
  {
   "cell_type": "code",
   "execution_count": 39,
   "metadata": {
    "colab": {
     "base_uri": "https://localhost:8080/"
    },
    "id": "d_K1b2w45xsl",
    "outputId": "00bda0c3-d57f-4bbf-ddeb-dc7815877d6c"
   },
   "outputs": [
    {
     "name": "stdout",
     "output_type": "stream",
     "text": [
      "Duration     45.0\n",
      "Pulse        90.0\n",
      "Maxpulse    112.0\n",
      "Calories      NaN\n",
      "Name: 17, dtype: float64\n"
     ]
    }
   ],
   "source": [
    "#Melihat Baris 22\n",
    "print(df.loc[17])"
   ]
  },
  {
   "cell_type": "code",
   "execution_count": 34,
   "metadata": {
    "id": "A430135K63-C"
   },
   "outputs": [],
   "source": [
    "# Drop NaN\n",
    "df3 = df.dropna()"
   ]
  },
  {
   "cell_type": "code",
   "execution_count": 35,
   "metadata": {
    "colab": {
     "base_uri": "https://localhost:8080/"
    },
    "id": "8HxmamIV7XzE",
    "outputId": "6245e244-e2c0-4215-c45a-b6fea051b1ce"
   },
   "outputs": [
    {
     "name": "stdout",
     "output_type": "stream",
     "text": [
      "    Duration  Pulse  Maxpulse  Calories\n",
      "0         60    110       130     409.1\n",
      "1         60    117       145     479.0\n",
      "2         60    103       135     340.0\n",
      "3         45    109       175     282.4\n",
      "4         45    117       148     406.0\n",
      "5         60    102       127     300.0\n",
      "6         60    110       136     374.0\n",
      "7         45    104       134     253.3\n",
      "8         30    109       133     195.1\n",
      "9         60     98       124     269.0\n",
      "10        60    103       147     329.3\n",
      "11        60    100       120     250.7\n",
      "12        60    106       128     345.3\n",
      "13        60    104       132     379.3\n",
      "14        60     98       123     275.0\n",
      "15        60     98       120     215.2\n",
      "16        60    100       120     300.0\n",
      "18        60    103       123     323.0\n",
      "19        45     97       125     243.0\n",
      "20        60    108       131     364.2\n",
      "21        45    100       119     282.0\n",
      "22        60    130       101     300.0\n",
      "23        45    105       132     246.0\n",
      "24        60    102       126     334.5\n",
      "25        60    100       120     250.0\n",
      "26        60     92       118     241.0\n",
      "28        60    100       132     280.0\n",
      "29        60    102       129     380.3\n",
      "30        60     92       115     243.0\n",
      "31        45     90       112     180.1\n"
     ]
    }
   ],
   "source": [
    "print(df3.head(30))"
   ]
  },
  {
   "cell_type": "code",
   "execution_count": 41,
   "metadata": {
    "colab": {
     "base_uri": "https://localhost:8080/"
    },
    "id": "U6h88xoe8y8G",
    "outputId": "c82dfba1-6311-4b07-a6d7-fce9a641a7b2"
   },
   "outputs": [
    {
     "name": "stdout",
     "output_type": "stream",
     "text": [
      "    Duration  Pulse  Maxpulse  Calories\n",
      "0         60    110       130     409.1\n",
      "1         60    117       145     479.0\n",
      "2         60    103       135     340.0\n",
      "3         45    109       175     282.4\n",
      "4         45    117       148     406.0\n",
      "5         60    102       127     300.0\n",
      "6         60    110       136     374.0\n",
      "7         45    104       134     253.3\n",
      "8         30    109       133     195.1\n",
      "9         60     98       124     269.0\n",
      "10        60    103       147     329.3\n",
      "11        60    100       120     250.7\n",
      "12        60    106       128     345.3\n",
      "13        60    104       132     379.3\n",
      "14        60     98       123     275.0\n",
      "15        60     98       120     215.2\n",
      "16        60    100       120     300.0\n",
      "17        60    103       123     323.0\n",
      "18        45     97       125     243.0\n",
      "19        60    108       131     364.2\n"
     ]
    }
   ],
   "source": [
    "df3.reset_index(drop=True , inplace=True)\n",
    "print(df3.head(20))"
   ]
  },
  {
   "cell_type": "code",
   "execution_count": 42,
   "metadata": {
    "id": "sLFeuZqf-AUL"
   },
   "outputs": [],
   "source": [
    "#export ke csv yang baru\n",
    "df3.to_csv('data_clean.csv',index=False)"
   ]
  },
  {
   "cell_type": "code",
   "execution_count": 53,
   "metadata": {
    "colab": {
     "base_uri": "https://localhost:8080/"
    },
    "id": "Oz7qwVdp_1jZ",
    "outputId": "402dd8ba-8a8c-4f48-a3ad-fe91b01935c2"
   },
   "outputs": [
    {
     "name": "stdout",
     "output_type": "stream",
     "text": [
      "0      False\n",
      "1      False\n",
      "2      False\n",
      "3      False\n",
      "4      False\n",
      "       ...  \n",
      "159    False\n",
      "160    False\n",
      "161    False\n",
      "162    False\n",
      "163    False\n",
      "Length: 157, dtype: bool\n"
     ]
    }
   ],
   "source": [
    "print(df3.duplicated())"
   ]
  },
  {
   "cell_type": "code",
   "execution_count": 47,
   "metadata": {
    "colab": {
     "base_uri": "https://localhost:8080/"
    },
    "id": "K8-V9VtAAiHs",
    "outputId": "6e5edb45-3450-4a52-a9ab-9edec3450607"
   },
   "outputs": [
    {
     "name": "stderr",
     "output_type": "stream",
     "text": [
      "<ipython-input-47-de9ac6306b14>:1: SettingWithCopyWarning: \n",
      "A value is trying to be set on a copy of a slice from a DataFrame\n",
      "\n",
      "See the caveats in the documentation: https://pandas.pydata.org/pandas-docs/stable/user_guide/indexing.html#returning-a-view-versus-a-copy\n",
      "  df3.drop_duplicates(inplace = True)\n"
     ]
    }
   ],
   "source": [
    "df3.drop_duplicates(inplace = True)"
   ]
  },
  {
   "cell_type": "code",
   "execution_count": 54,
   "metadata": {
    "colab": {
     "base_uri": "https://localhost:8080/"
    },
    "id": "lMxwHqcSCLmU",
    "outputId": "d108c043-ef41-41f6-9475-0e5a9f604e59"
   },
   "outputs": [
    {
     "name": "stdout",
     "output_type": "stream",
     "text": [
      "33    False\n",
      "37    False\n",
      "39    False\n",
      "dtype: bool\n"
     ]
    }
   ],
   "source": [
    "print(df3[33:36].duplicated())"
   ]
  }
 ],
 "metadata": {
  "colab": {
   "provenance": []
  },
  "kernelspec": {
   "display_name": "Python 3 (ipykernel)",
   "language": "python",
   "name": "python3"
  },
  "language_info": {
   "codemirror_mode": {
    "name": "ipython",
    "version": 3
   },
   "file_extension": ".py",
   "mimetype": "text/x-python",
   "name": "python",
   "nbconvert_exporter": "python",
   "pygments_lexer": "ipython3",
   "version": "3.10.9"
  }
 },
 "nbformat": 4,
 "nbformat_minor": 1
}
