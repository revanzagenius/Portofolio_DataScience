{
  "cells": [
    {
      "cell_type": "code",
      "execution_count": 2,
      "metadata": {
        "id": "CdUehN0BSlYS"
      },
      "outputs": [
        {
          "ename": "ModuleNotFoundError",
          "evalue": "No module named 'matplotlib'",
          "output_type": "error",
          "traceback": [
            "\u001b[1;31m---------------------------------------------------------------------------\u001b[0m",
            "\u001b[1;31mModuleNotFoundError\u001b[0m                       Traceback (most recent call last)",
            "Cell \u001b[1;32mIn[2], line 3\u001b[0m\n\u001b[0;32m      1\u001b[0m \u001b[39mimport\u001b[39;00m \u001b[39mpandas\u001b[39;00m \u001b[39mas\u001b[39;00m \u001b[39mpd\u001b[39;00m\n\u001b[0;32m      2\u001b[0m \u001b[39mimport\u001b[39;00m \u001b[39mnumpy\u001b[39;00m \u001b[39mas\u001b[39;00m \u001b[39mnp\u001b[39;00m\n\u001b[1;32m----> 3\u001b[0m \u001b[39mimport\u001b[39;00m \u001b[39mmatplotlib\u001b[39;00m\u001b[39m.\u001b[39;00m\u001b[39mpyplot\u001b[39;00m \u001b[39mas\u001b[39;00m \u001b[39mplt\u001b[39;00m\n",
            "\u001b[1;31mModuleNotFoundError\u001b[0m: No module named 'matplotlib'"
          ]
        }
      ],
      "source": [
        "import pandas as pd\n",
        "import numpy as np\n",
        "import matplotlib.pyplot as plt"
      ]
    },
    {
      "cell_type": "code",
      "execution_count": null,
      "metadata": {
        "colab": {
          "base_uri": "https://localhost:8080/"
        },
        "id": "T5tZRgdGTD89",
        "outputId": "a1332f09-d9d5-4e56-8b7c-e89dee345ad3"
      },
      "outputs": [
        {
          "data": {
            "text/plain": [
              "<bound method NDFrame.head of      Age Sex      BP Cholesterol  Na_to_K   Drug\n",
              "0     23   F    HIGH        HIGH   25.355  DrugY\n",
              "1     47   M     LOW        HIGH   13.093  drugC\n",
              "2     47   M     LOW        HIGH   10.114  drugC\n",
              "3     28   F  NORMAL        HIGH    7.798  drugX\n",
              "4     61   F     LOW        HIGH   18.043  DrugY\n",
              "..   ...  ..     ...         ...      ...    ...\n",
              "195   56   F     LOW        HIGH   11.567  drugC\n",
              "196   16   M     LOW        HIGH   12.006  drugC\n",
              "197   52   M  NORMAL        HIGH    9.894  drugX\n",
              "198   23   M  NORMAL      NORMAL   14.020  drugX\n",
              "199   40   F     LOW      NORMAL   11.349  drugX\n",
              "\n",
              "[200 rows x 6 columns]>"
            ]
          },
          "execution_count": 2,
          "metadata": {},
          "output_type": "execute_result"
        }
      ],
      "source": [
        "df = pd.read_csv('drug200.csv')\n",
        "df.head"
      ]
    },
    {
      "cell_type": "code",
      "execution_count": null,
      "metadata": {
        "colab": {
          "base_uri": "https://localhost:8080/"
        },
        "id": "svch9iFwTUks",
        "outputId": "4e37d220-d0e5-453f-82b3-a9159931f852"
      },
      "outputs": [
        {
          "data": {
            "text/plain": [
              "(200, 6)"
            ]
          },
          "execution_count": 3,
          "metadata": {},
          "output_type": "execute_result"
        }
      ],
      "source": [
        "df.shape"
      ]
    },
    {
      "cell_type": "code",
      "execution_count": null,
      "metadata": {
        "colab": {
          "base_uri": "https://localhost:8080/"
        },
        "id": "6-4e0yHNbkT7",
        "outputId": "8a9e5a79-0466-454f-b060-7a53323b61ab"
      },
      "outputs": [
        {
          "data": {
            "text/plain": [
              "M    104\n",
              "F     96\n",
              "Name: Sex, dtype: int64"
            ]
          },
          "execution_count": 4,
          "metadata": {},
          "output_type": "execute_result"
        }
      ],
      "source": [
        "df['Sex'].value_counts()"
      ]
    },
    {
      "cell_type": "code",
      "execution_count": null,
      "metadata": {
        "colab": {
          "base_uri": "https://localhost:8080/"
        },
        "id": "VIsbFTTuYnHc",
        "outputId": "efa17fcf-5135-4290-b657-aa2405b9df9a"
      },
      "outputs": [
        {
          "data": {
            "text/plain": [
              "array([0, 1])"
            ]
          },
          "execution_count": 5,
          "metadata": {},
          "output_type": "execute_result"
        }
      ],
      "source": [
        "# Merubah String menjadi INT dengan Label Encoder\n",
        "from sklearn import preprocessing\n",
        "label_encoder = preprocessing.LabelEncoder()\n",
        "df['Sex'] = label_encoder.fit_transform(df['Sex'])\n",
        "df['Sex'].unique()"
      ]
    },
    {
      "cell_type": "code",
      "execution_count": null,
      "metadata": {
        "id": "iUkn-IrnaMR3"
      },
      "outputs": [],
      "source": [
        "# Merubah String menjadi INT dengan Fungsi Encode\n",
        "def encode(df):\n",
        "  if df == 'LOW':\n",
        "    return 0\n",
        "  elif df == 'NORMAL':\n",
        "    return 1\n",
        "  else : \n",
        "    return 2\n",
        "\n",
        "df['BP'] = df['BP'].apply(encode)"
      ]
    },
    {
      "cell_type": "code",
      "execution_count": null,
      "metadata": {
        "colab": {
          "base_uri": "https://localhost:8080/"
        },
        "id": "8EIVnY_ObHw6",
        "outputId": "ee6694c3-1522-4e31-f604-9b5c0368d4a2"
      },
      "outputs": [
        {
          "data": {
            "text/plain": [
              "HIGH      103\n",
              "NORMAL     97\n",
              "Name: Cholesterol, dtype: int64"
            ]
          },
          "execution_count": 7,
          "metadata": {},
          "output_type": "execute_result"
        }
      ],
      "source": [
        "df['Cholesterol'].value_counts()"
      ]
    },
    {
      "cell_type": "code",
      "execution_count": null,
      "metadata": {
        "colab": {
          "base_uri": "https://localhost:8080/"
        },
        "id": "lEN8NjJdbbZX",
        "outputId": "95382e34-9ddb-413c-abbe-a1cfffd729aa"
      },
      "outputs": [
        {
          "data": {
            "text/plain": [
              "array([0, 1])"
            ]
          },
          "execution_count": 8,
          "metadata": {},
          "output_type": "execute_result"
        }
      ],
      "source": [
        "from sklearn import preprocessing\n",
        "label_encoder = preprocessing.LabelEncoder()\n",
        "df['Cholesterol'] = label_encoder.fit_transform(df['Cholesterol'])\n",
        "df['Cholesterol'].unique()"
      ]
    },
    {
      "cell_type": "code",
      "execution_count": null,
      "metadata": {
        "id": "CH6vyAdeWQtH"
      },
      "outputs": [],
      "source": [
        "X = df.iloc[:,:-1].values\n",
        "y = df.iloc[:,-1].values"
      ]
    },
    {
      "cell_type": "code",
      "execution_count": null,
      "metadata": {
        "colab": {
          "base_uri": "https://localhost:8080/"
        },
        "id": "2KPOBfp-WjHB",
        "outputId": "bc59bd51-c866-46b8-b6d4-070409185a4b"
      },
      "outputs": [
        {
          "data": {
            "text/plain": [
              "array([[23.   ,  0.   ,  2.   ,  0.   , 25.355],\n",
              "       [47.   ,  1.   ,  0.   ,  0.   , 13.093],\n",
              "       [47.   ,  1.   ,  0.   ,  0.   , 10.114],\n",
              "       [28.   ,  0.   ,  1.   ,  0.   ,  7.798],\n",
              "       [61.   ,  0.   ,  0.   ,  0.   , 18.043],\n",
              "       [22.   ,  0.   ,  1.   ,  0.   ,  8.607],\n",
              "       [49.   ,  0.   ,  1.   ,  0.   , 16.275],\n",
              "       [41.   ,  1.   ,  0.   ,  0.   , 11.037],\n",
              "       [60.   ,  1.   ,  1.   ,  0.   , 15.171],\n",
              "       [43.   ,  1.   ,  0.   ,  1.   , 19.368],\n",
              "       [47.   ,  0.   ,  0.   ,  0.   , 11.767],\n",
              "       [34.   ,  0.   ,  2.   ,  1.   , 19.199],\n",
              "       [43.   ,  1.   ,  0.   ,  0.   , 15.376],\n",
              "       [74.   ,  0.   ,  0.   ,  0.   , 20.942],\n",
              "       [50.   ,  0.   ,  1.   ,  0.   , 12.703],\n",
              "       [16.   ,  0.   ,  2.   ,  1.   , 15.516],\n",
              "       [69.   ,  1.   ,  0.   ,  1.   , 11.455],\n",
              "       [43.   ,  1.   ,  2.   ,  0.   , 13.972],\n",
              "       [23.   ,  1.   ,  0.   ,  0.   ,  7.298],\n",
              "       [32.   ,  0.   ,  2.   ,  1.   , 25.974],\n",
              "       [57.   ,  1.   ,  0.   ,  1.   , 19.128],\n",
              "       [63.   ,  1.   ,  1.   ,  0.   , 25.917],\n",
              "       [47.   ,  1.   ,  0.   ,  1.   , 30.568],\n",
              "       [48.   ,  0.   ,  0.   ,  0.   , 15.036],\n",
              "       [33.   ,  0.   ,  0.   ,  0.   , 33.486],\n",
              "       [28.   ,  0.   ,  2.   ,  1.   , 18.809],\n",
              "       [31.   ,  1.   ,  2.   ,  0.   , 30.366],\n",
              "       [49.   ,  0.   ,  1.   ,  1.   ,  9.381],\n",
              "       [39.   ,  0.   ,  0.   ,  1.   , 22.697],\n",
              "       [45.   ,  1.   ,  0.   ,  0.   , 17.951],\n",
              "       [18.   ,  0.   ,  1.   ,  1.   ,  8.75 ],\n",
              "       [74.   ,  1.   ,  2.   ,  0.   ,  9.567],\n",
              "       [49.   ,  1.   ,  0.   ,  1.   , 11.014],\n",
              "       [65.   ,  0.   ,  2.   ,  1.   , 31.876],\n",
              "       [53.   ,  1.   ,  1.   ,  0.   , 14.133],\n",
              "       [46.   ,  1.   ,  1.   ,  1.   ,  7.285],\n",
              "       [32.   ,  1.   ,  2.   ,  1.   ,  9.445],\n",
              "       [39.   ,  1.   ,  0.   ,  1.   , 13.938],\n",
              "       [39.   ,  0.   ,  1.   ,  1.   ,  9.709],\n",
              "       [15.   ,  1.   ,  1.   ,  0.   ,  9.084],\n",
              "       [73.   ,  0.   ,  1.   ,  0.   , 19.221],\n",
              "       [58.   ,  0.   ,  2.   ,  1.   , 14.239],\n",
              "       [50.   ,  1.   ,  1.   ,  1.   , 15.79 ],\n",
              "       [23.   ,  1.   ,  1.   ,  0.   , 12.26 ],\n",
              "       [50.   ,  0.   ,  1.   ,  1.   , 12.295],\n",
              "       [66.   ,  0.   ,  1.   ,  1.   ,  8.107],\n",
              "       [37.   ,  0.   ,  2.   ,  0.   , 13.091],\n",
              "       [68.   ,  1.   ,  0.   ,  0.   , 10.291],\n",
              "       [23.   ,  1.   ,  1.   ,  0.   , 31.686],\n",
              "       [28.   ,  0.   ,  0.   ,  0.   , 19.796],\n",
              "       [58.   ,  0.   ,  2.   ,  0.   , 19.416],\n",
              "       [67.   ,  1.   ,  1.   ,  1.   , 10.898],\n",
              "       [62.   ,  1.   ,  0.   ,  1.   , 27.183],\n",
              "       [24.   ,  0.   ,  2.   ,  1.   , 18.457],\n",
              "       [68.   ,  0.   ,  2.   ,  1.   , 10.189],\n",
              "       [26.   ,  0.   ,  0.   ,  0.   , 14.16 ],\n",
              "       [65.   ,  1.   ,  2.   ,  1.   , 11.34 ],\n",
              "       [40.   ,  1.   ,  2.   ,  0.   , 27.826],\n",
              "       [60.   ,  1.   ,  1.   ,  1.   , 10.091],\n",
              "       [34.   ,  1.   ,  2.   ,  0.   , 18.703],\n",
              "       [38.   ,  0.   ,  0.   ,  1.   , 29.875],\n",
              "       [24.   ,  1.   ,  2.   ,  1.   ,  9.475],\n",
              "       [67.   ,  1.   ,  0.   ,  1.   , 20.693],\n",
              "       [45.   ,  1.   ,  0.   ,  1.   ,  8.37 ],\n",
              "       [60.   ,  0.   ,  2.   ,  0.   , 13.303],\n",
              "       [68.   ,  0.   ,  1.   ,  1.   , 27.05 ],\n",
              "       [29.   ,  1.   ,  2.   ,  0.   , 12.856],\n",
              "       [17.   ,  1.   ,  1.   ,  1.   , 10.832],\n",
              "       [54.   ,  1.   ,  1.   ,  0.   , 24.658],\n",
              "       [18.   ,  0.   ,  2.   ,  1.   , 24.276],\n",
              "       [70.   ,  1.   ,  2.   ,  0.   , 13.967],\n",
              "       [28.   ,  0.   ,  1.   ,  0.   , 19.675],\n",
              "       [24.   ,  0.   ,  1.   ,  0.   , 10.605],\n",
              "       [41.   ,  0.   ,  1.   ,  1.   , 22.905],\n",
              "       [31.   ,  1.   ,  2.   ,  1.   , 17.069],\n",
              "       [26.   ,  1.   ,  0.   ,  1.   , 20.909],\n",
              "       [36.   ,  0.   ,  2.   ,  0.   , 11.198],\n",
              "       [26.   ,  0.   ,  2.   ,  1.   , 19.161],\n",
              "       [19.   ,  0.   ,  2.   ,  0.   , 13.313],\n",
              "       [32.   ,  0.   ,  0.   ,  1.   , 10.84 ],\n",
              "       [60.   ,  1.   ,  2.   ,  0.   , 13.934],\n",
              "       [64.   ,  1.   ,  1.   ,  0.   ,  7.761],\n",
              "       [32.   ,  0.   ,  0.   ,  0.   ,  9.712],\n",
              "       [38.   ,  0.   ,  2.   ,  1.   , 11.326],\n",
              "       [47.   ,  0.   ,  0.   ,  0.   , 10.067],\n",
              "       [59.   ,  1.   ,  2.   ,  0.   , 13.935],\n",
              "       [51.   ,  0.   ,  1.   ,  0.   , 13.597],\n",
              "       [69.   ,  1.   ,  0.   ,  0.   , 15.478],\n",
              "       [37.   ,  0.   ,  2.   ,  1.   , 23.091],\n",
              "       [50.   ,  0.   ,  1.   ,  1.   , 17.211],\n",
              "       [62.   ,  1.   ,  1.   ,  0.   , 16.594],\n",
              "       [41.   ,  1.   ,  2.   ,  1.   , 15.156],\n",
              "       [29.   ,  0.   ,  2.   ,  0.   , 29.45 ],\n",
              "       [42.   ,  0.   ,  0.   ,  1.   , 29.271],\n",
              "       [56.   ,  1.   ,  0.   ,  0.   , 15.015],\n",
              "       [36.   ,  1.   ,  0.   ,  1.   , 11.424],\n",
              "       [58.   ,  0.   ,  0.   ,  0.   , 38.247],\n",
              "       [56.   ,  0.   ,  2.   ,  0.   , 25.395],\n",
              "       [20.   ,  1.   ,  2.   ,  1.   , 35.639],\n",
              "       [15.   ,  0.   ,  2.   ,  1.   , 16.725],\n",
              "       [31.   ,  1.   ,  2.   ,  1.   , 11.871],\n",
              "       [45.   ,  0.   ,  2.   ,  0.   , 12.854],\n",
              "       [28.   ,  0.   ,  0.   ,  0.   , 13.127],\n",
              "       [56.   ,  1.   ,  1.   ,  0.   ,  8.966],\n",
              "       [22.   ,  1.   ,  2.   ,  1.   , 28.294],\n",
              "       [37.   ,  1.   ,  0.   ,  1.   ,  8.968],\n",
              "       [22.   ,  1.   ,  1.   ,  0.   , 11.953],\n",
              "       [42.   ,  1.   ,  0.   ,  0.   , 20.013],\n",
              "       [72.   ,  1.   ,  2.   ,  1.   ,  9.677],\n",
              "       [23.   ,  1.   ,  1.   ,  0.   , 16.85 ],\n",
              "       [50.   ,  1.   ,  2.   ,  0.   ,  7.49 ],\n",
              "       [47.   ,  0.   ,  1.   ,  1.   ,  6.683],\n",
              "       [35.   ,  1.   ,  0.   ,  1.   ,  9.17 ],\n",
              "       [65.   ,  0.   ,  0.   ,  1.   , 13.769],\n",
              "       [20.   ,  0.   ,  1.   ,  1.   ,  9.281],\n",
              "       [51.   ,  1.   ,  2.   ,  0.   , 18.295],\n",
              "       [67.   ,  1.   ,  1.   ,  1.   ,  9.514],\n",
              "       [40.   ,  0.   ,  1.   ,  0.   , 10.103],\n",
              "       [32.   ,  0.   ,  2.   ,  1.   , 10.292],\n",
              "       [61.   ,  0.   ,  2.   ,  0.   , 25.475],\n",
              "       [28.   ,  1.   ,  1.   ,  0.   , 27.064],\n",
              "       [15.   ,  1.   ,  2.   ,  1.   , 17.206],\n",
              "       [34.   ,  1.   ,  1.   ,  0.   , 22.456],\n",
              "       [36.   ,  0.   ,  1.   ,  0.   , 16.753],\n",
              "       [53.   ,  0.   ,  2.   ,  1.   , 12.495],\n",
              "       [19.   ,  0.   ,  2.   ,  1.   , 25.969],\n",
              "       [66.   ,  1.   ,  2.   ,  0.   , 16.347],\n",
              "       [35.   ,  1.   ,  1.   ,  1.   ,  7.845],\n",
              "       [47.   ,  1.   ,  0.   ,  1.   , 33.542],\n",
              "       [32.   ,  0.   ,  1.   ,  0.   ,  7.477],\n",
              "       [70.   ,  0.   ,  1.   ,  0.   , 20.489],\n",
              "       [52.   ,  1.   ,  0.   ,  1.   , 32.922],\n",
              "       [49.   ,  1.   ,  0.   ,  1.   , 13.598],\n",
              "       [24.   ,  1.   ,  1.   ,  0.   , 25.786],\n",
              "       [42.   ,  0.   ,  2.   ,  0.   , 21.036],\n",
              "       [74.   ,  1.   ,  0.   ,  1.   , 11.939],\n",
              "       [55.   ,  0.   ,  2.   ,  0.   , 10.977],\n",
              "       [35.   ,  0.   ,  2.   ,  0.   , 12.894],\n",
              "       [51.   ,  1.   ,  2.   ,  1.   , 11.343],\n",
              "       [69.   ,  0.   ,  1.   ,  0.   , 10.065],\n",
              "       [49.   ,  1.   ,  2.   ,  1.   ,  6.269],\n",
              "       [64.   ,  0.   ,  0.   ,  1.   , 25.741],\n",
              "       [60.   ,  1.   ,  2.   ,  1.   ,  8.621],\n",
              "       [74.   ,  1.   ,  2.   ,  1.   , 15.436],\n",
              "       [39.   ,  1.   ,  2.   ,  0.   ,  9.664],\n",
              "       [61.   ,  1.   ,  1.   ,  0.   ,  9.443],\n",
              "       [37.   ,  0.   ,  0.   ,  1.   , 12.006],\n",
              "       [26.   ,  0.   ,  2.   ,  1.   , 12.307],\n",
              "       [61.   ,  0.   ,  0.   ,  1.   ,  7.34 ],\n",
              "       [22.   ,  1.   ,  0.   ,  0.   ,  8.151],\n",
              "       [49.   ,  1.   ,  2.   ,  1.   ,  8.7  ],\n",
              "       [68.   ,  1.   ,  2.   ,  0.   , 11.009],\n",
              "       [55.   ,  1.   ,  1.   ,  1.   ,  7.261],\n",
              "       [72.   ,  0.   ,  0.   ,  1.   , 14.642],\n",
              "       [37.   ,  1.   ,  0.   ,  1.   , 16.724],\n",
              "       [49.   ,  1.   ,  0.   ,  0.   , 10.537],\n",
              "       [31.   ,  1.   ,  2.   ,  1.   , 11.227],\n",
              "       [53.   ,  1.   ,  0.   ,  0.   , 22.963],\n",
              "       [59.   ,  0.   ,  0.   ,  0.   , 10.444],\n",
              "       [34.   ,  0.   ,  0.   ,  1.   , 12.923],\n",
              "       [30.   ,  0.   ,  1.   ,  0.   , 10.443],\n",
              "       [57.   ,  0.   ,  2.   ,  1.   ,  9.945],\n",
              "       [43.   ,  1.   ,  1.   ,  1.   , 12.859],\n",
              "       [21.   ,  0.   ,  2.   ,  1.   , 28.632],\n",
              "       [16.   ,  1.   ,  2.   ,  1.   , 19.007],\n",
              "       [38.   ,  1.   ,  0.   ,  0.   , 18.295],\n",
              "       [58.   ,  0.   ,  0.   ,  0.   , 26.645],\n",
              "       [57.   ,  0.   ,  1.   ,  0.   , 14.216],\n",
              "       [51.   ,  0.   ,  0.   ,  1.   , 23.003],\n",
              "       [20.   ,  0.   ,  2.   ,  0.   , 11.262],\n",
              "       [28.   ,  0.   ,  1.   ,  0.   , 12.879],\n",
              "       [45.   ,  1.   ,  0.   ,  1.   , 10.017],\n",
              "       [39.   ,  0.   ,  1.   ,  1.   , 17.225],\n",
              "       [41.   ,  0.   ,  0.   ,  1.   , 18.739],\n",
              "       [42.   ,  1.   ,  2.   ,  1.   , 12.766],\n",
              "       [73.   ,  0.   ,  2.   ,  0.   , 18.348],\n",
              "       [48.   ,  1.   ,  2.   ,  1.   , 10.446],\n",
              "       [25.   ,  1.   ,  1.   ,  0.   , 19.011],\n",
              "       [39.   ,  1.   ,  1.   ,  0.   , 15.969],\n",
              "       [67.   ,  0.   ,  1.   ,  0.   , 15.891],\n",
              "       [22.   ,  0.   ,  2.   ,  1.   , 22.818],\n",
              "       [59.   ,  0.   ,  1.   ,  0.   , 13.884],\n",
              "       [20.   ,  0.   ,  0.   ,  1.   , 11.686],\n",
              "       [36.   ,  0.   ,  2.   ,  1.   , 15.49 ],\n",
              "       [18.   ,  0.   ,  2.   ,  0.   , 37.188],\n",
              "       [57.   ,  0.   ,  1.   ,  1.   , 25.893],\n",
              "       [70.   ,  1.   ,  2.   ,  0.   ,  9.849],\n",
              "       [47.   ,  1.   ,  2.   ,  0.   , 10.403],\n",
              "       [65.   ,  1.   ,  2.   ,  1.   , 34.997],\n",
              "       [64.   ,  1.   ,  2.   ,  1.   , 20.932],\n",
              "       [58.   ,  1.   ,  2.   ,  0.   , 18.991],\n",
              "       [23.   ,  1.   ,  2.   ,  0.   ,  8.011],\n",
              "       [72.   ,  1.   ,  0.   ,  0.   , 16.31 ],\n",
              "       [72.   ,  1.   ,  0.   ,  0.   ,  6.769],\n",
              "       [46.   ,  0.   ,  2.   ,  0.   , 34.686],\n",
              "       [56.   ,  0.   ,  0.   ,  0.   , 11.567],\n",
              "       [16.   ,  1.   ,  0.   ,  0.   , 12.006],\n",
              "       [52.   ,  1.   ,  1.   ,  0.   ,  9.894],\n",
              "       [23.   ,  1.   ,  1.   ,  1.   , 14.02 ],\n",
              "       [40.   ,  0.   ,  0.   ,  1.   , 11.349]])"
            ]
          },
          "execution_count": 10,
          "metadata": {},
          "output_type": "execute_result"
        }
      ],
      "source": [
        "X"
      ]
    },
    {
      "cell_type": "code",
      "execution_count": null,
      "metadata": {
        "colab": {
          "base_uri": "https://localhost:8080/"
        },
        "id": "cMQPoZ6EW7kB",
        "outputId": "64739a05-c085-4483-a338-40a3406f9c89"
      },
      "outputs": [
        {
          "data": {
            "text/plain": [
              "array(['DrugY', 'drugC', 'drugC', 'drugX', 'DrugY', 'drugX', 'DrugY',\n",
              "       'drugC', 'DrugY', 'DrugY', 'drugC', 'DrugY', 'DrugY', 'DrugY',\n",
              "       'drugX', 'DrugY', 'drugX', 'drugA', 'drugC', 'DrugY', 'DrugY',\n",
              "       'DrugY', 'DrugY', 'DrugY', 'DrugY', 'DrugY', 'DrugY', 'drugX',\n",
              "       'DrugY', 'DrugY', 'drugX', 'drugB', 'drugX', 'DrugY', 'drugX',\n",
              "       'drugX', 'drugA', 'drugX', 'drugX', 'drugX', 'DrugY', 'drugB',\n",
              "       'DrugY', 'drugX', 'drugX', 'drugX', 'drugA', 'drugC', 'DrugY',\n",
              "       'DrugY', 'DrugY', 'drugX', 'DrugY', 'DrugY', 'drugB', 'drugC',\n",
              "       'drugB', 'DrugY', 'drugX', 'DrugY', 'DrugY', 'drugA', 'DrugY',\n",
              "       'drugX', 'drugB', 'DrugY', 'drugA', 'drugX', 'DrugY', 'DrugY',\n",
              "       'drugB', 'DrugY', 'drugX', 'DrugY', 'DrugY', 'DrugY', 'drugA',\n",
              "       'DrugY', 'drugA', 'drugX', 'drugB', 'drugX', 'drugC', 'drugA',\n",
              "       'drugC', 'drugB', 'drugX', 'DrugY', 'DrugY', 'DrugY', 'DrugY',\n",
              "       'DrugY', 'DrugY', 'DrugY', 'DrugY', 'drugX', 'DrugY', 'DrugY',\n",
              "       'DrugY', 'DrugY', 'drugA', 'drugA', 'drugC', 'drugX', 'DrugY',\n",
              "       'drugX', 'drugX', 'DrugY', 'drugB', 'DrugY', 'drugA', 'drugX',\n",
              "       'drugX', 'drugX', 'drugX', 'DrugY', 'drugX', 'drugX', 'drugA',\n",
              "       'DrugY', 'DrugY', 'DrugY', 'DrugY', 'DrugY', 'drugB', 'DrugY',\n",
              "       'DrugY', 'drugX', 'DrugY', 'drugX', 'DrugY', 'DrugY', 'drugX',\n",
              "       'DrugY', 'DrugY', 'drugX', 'drugB', 'drugA', 'drugB', 'drugX',\n",
              "       'drugA', 'DrugY', 'drugB', 'DrugY', 'drugA', 'drugX', 'drugX',\n",
              "       'drugA', 'drugX', 'drugC', 'drugA', 'drugB', 'drugX', 'drugX',\n",
              "       'DrugY', 'drugC', 'drugA', 'DrugY', 'drugC', 'drugX', 'drugX',\n",
              "       'drugB', 'drugX', 'DrugY', 'DrugY', 'DrugY', 'DrugY', 'drugX',\n",
              "       'DrugY', 'drugA', 'drugX', 'drugX', 'DrugY', 'DrugY', 'drugA',\n",
              "       'DrugY', 'drugA', 'DrugY', 'DrugY', 'DrugY', 'DrugY', 'drugX',\n",
              "       'drugX', 'DrugY', 'DrugY', 'DrugY', 'drugB', 'drugA', 'DrugY',\n",
              "       'DrugY', 'DrugY', 'drugA', 'DrugY', 'drugC', 'DrugY', 'drugC',\n",
              "       'drugC', 'drugX', 'drugX', 'drugX'], dtype=object)"
            ]
          },
          "execution_count": 11,
          "metadata": {},
          "output_type": "execute_result"
        }
      ],
      "source": [
        "y"
      ]
    },
    {
      "cell_type": "code",
      "execution_count": null,
      "metadata": {
        "id": "J2KqOnjEW_s6"
      },
      "outputs": [],
      "source": [
        "from sklearn.model_selection import train_test_split\n",
        "X_train, X_test, y_train, y_test = train_test_split(X,y, test_size=0.2, random_state=0)"
      ]
    },
    {
      "cell_type": "code",
      "execution_count": null,
      "metadata": {
        "colab": {
          "base_uri": "https://localhost:8080/"
        },
        "id": "tftd59ZuXWvZ",
        "outputId": "38d4693b-f5cb-48a3-965f-9b333a2d9aff"
      },
      "outputs": [
        {
          "data": {
            "text/plain": [
              "array([[23.   ,  1.   ,  0.   ,  0.   ,  7.298],\n",
              "       [28.   ,  0.   ,  1.   ,  0.   , 12.879],\n",
              "       [42.   ,  1.   ,  0.   ,  0.   , 20.013],\n",
              "       [20.   ,  1.   ,  2.   ,  1.   , 35.639],\n",
              "       [25.   ,  1.   ,  1.   ,  0.   , 19.011],\n",
              "       [20.   ,  0.   ,  0.   ,  1.   , 11.686],\n",
              "       [22.   ,  0.   ,  1.   ,  0.   ,  8.607],\n",
              "       [37.   ,  0.   ,  0.   ,  1.   , 12.006],\n",
              "       [43.   ,  1.   ,  0.   ,  0.   , 15.376],\n",
              "       [55.   ,  1.   ,  1.   ,  1.   ,  7.261],\n",
              "       [24.   ,  1.   ,  2.   ,  1.   ,  9.475],\n",
              "       [19.   ,  0.   ,  2.   ,  1.   , 25.969],\n",
              "       [22.   ,  0.   ,  2.   ,  1.   , 22.818],\n",
              "       [37.   ,  1.   ,  0.   ,  1.   , 16.724],\n",
              "       [60.   ,  1.   ,  2.   ,  0.   , 13.934],\n",
              "       [41.   ,  1.   ,  0.   ,  0.   , 11.037],\n",
              "       [65.   ,  0.   ,  2.   ,  1.   , 31.876],\n",
              "       [70.   ,  0.   ,  1.   ,  0.   , 20.489],\n",
              "       [39.   ,  1.   ,  0.   ,  1.   , 13.938],\n",
              "       [31.   ,  1.   ,  2.   ,  1.   , 17.069],\n",
              "       [36.   ,  0.   ,  2.   ,  1.   , 15.49 ],\n",
              "       [61.   ,  1.   ,  1.   ,  0.   ,  9.443],\n",
              "       [66.   ,  0.   ,  1.   ,  1.   ,  8.107],\n",
              "       [34.   ,  0.   ,  0.   ,  1.   , 12.923],\n",
              "       [38.   ,  0.   ,  0.   ,  1.   , 29.875],\n",
              "       [36.   ,  0.   ,  1.   ,  0.   , 16.753],\n",
              "       [67.   ,  0.   ,  1.   ,  0.   , 15.891],\n",
              "       [57.   ,  0.   ,  1.   ,  1.   , 25.893],\n",
              "       [34.   ,  1.   ,  1.   ,  0.   , 22.456],\n",
              "       [50.   ,  0.   ,  1.   ,  1.   , 12.295],\n",
              "       [69.   ,  1.   ,  0.   ,  1.   , 11.455],\n",
              "       [26.   ,  0.   ,  0.   ,  0.   , 14.16 ],\n",
              "       [49.   ,  1.   ,  2.   ,  1.   ,  8.7  ],\n",
              "       [47.   ,  0.   ,  1.   ,  1.   ,  6.683],\n",
              "       [47.   ,  1.   ,  0.   ,  1.   , 30.568],\n",
              "       [64.   ,  1.   ,  2.   ,  1.   , 20.932],\n",
              "       [32.   ,  0.   ,  1.   ,  0.   ,  7.477],\n",
              "       [61.   ,  0.   ,  0.   ,  0.   , 18.043],\n",
              "       [38.   ,  0.   ,  2.   ,  1.   , 11.326],\n",
              "       [22.   ,  1.   ,  1.   ,  0.   , 11.953]])"
            ]
          },
          "execution_count": 13,
          "metadata": {},
          "output_type": "execute_result"
        }
      ],
      "source": [
        "X_test"
      ]
    },
    {
      "cell_type": "code",
      "execution_count": null,
      "metadata": {
        "colab": {
          "base_uri": "https://localhost:8080/"
        },
        "id": "6P4JsMwVXfqu",
        "outputId": "ca81e947-f374-4054-de19-5b495434e264"
      },
      "outputs": [
        {
          "data": {
            "text/plain": [
              "array(['drugC', 'drugX', 'DrugY', 'DrugY', 'DrugY', 'drugX', 'drugX',\n",
              "       'drugX', 'DrugY', 'drugX', 'drugA', 'DrugY', 'DrugY', 'DrugY',\n",
              "       'drugB', 'drugC', 'DrugY', 'DrugY', 'drugX', 'DrugY', 'DrugY',\n",
              "       'drugX', 'drugX', 'drugX', 'DrugY', 'DrugY', 'DrugY', 'DrugY',\n",
              "       'DrugY', 'drugX', 'drugX', 'drugC', 'drugA', 'drugX', 'DrugY',\n",
              "       'DrugY', 'drugX', 'DrugY', 'drugA', 'drugX'], dtype=object)"
            ]
          },
          "execution_count": 14,
          "metadata": {},
          "output_type": "execute_result"
        }
      ],
      "source": [
        "y_test"
      ]
    },
    {
      "cell_type": "code",
      "execution_count": null,
      "metadata": {
        "id": "3V8Z5t-QX2WU"
      },
      "outputs": [],
      "source": [
        "from sklearn.preprocessing import StandardScaler\n",
        "sc = StandardScaler()\n",
        "X_train = sc.fit_transform(X_train)\n",
        "X_test  = sc.fit_transform(X_test)"
      ]
    },
    {
      "cell_type": "code",
      "execution_count": null,
      "metadata": {
        "id": "Jp83mpdqdynT"
      },
      "outputs": [],
      "source": []
    },
    {
      "cell_type": "code",
      "execution_count": null,
      "metadata": {
        "colab": {
          "base_uri": "https://localhost:8080/",
          "height": 75
        },
        "id": "zqag-EaJcGiO",
        "outputId": "a6d0bbf0-0d36-4b1d-9991-87c39456e85b"
      },
      "outputs": [
        {
          "data": {
            "text/html": [
              "<style>#sk-container-id-1 {color: black;background-color: white;}#sk-container-id-1 pre{padding: 0;}#sk-container-id-1 div.sk-toggleable {background-color: white;}#sk-container-id-1 label.sk-toggleable__label {cursor: pointer;display: block;width: 100%;margin-bottom: 0;padding: 0.3em;box-sizing: border-box;text-align: center;}#sk-container-id-1 label.sk-toggleable__label-arrow:before {content: \"▸\";float: left;margin-right: 0.25em;color: #696969;}#sk-container-id-1 label.sk-toggleable__label-arrow:hover:before {color: black;}#sk-container-id-1 div.sk-estimator:hover label.sk-toggleable__label-arrow:before {color: black;}#sk-container-id-1 div.sk-toggleable__content {max-height: 0;max-width: 0;overflow: hidden;text-align: left;background-color: #f0f8ff;}#sk-container-id-1 div.sk-toggleable__content pre {margin: 0.2em;color: black;border-radius: 0.25em;background-color: #f0f8ff;}#sk-container-id-1 input.sk-toggleable__control:checked~div.sk-toggleable__content {max-height: 200px;max-width: 100%;overflow: auto;}#sk-container-id-1 input.sk-toggleable__control:checked~label.sk-toggleable__label-arrow:before {content: \"▾\";}#sk-container-id-1 div.sk-estimator input.sk-toggleable__control:checked~label.sk-toggleable__label {background-color: #d4ebff;}#sk-container-id-1 div.sk-label input.sk-toggleable__control:checked~label.sk-toggleable__label {background-color: #d4ebff;}#sk-container-id-1 input.sk-hidden--visually {border: 0;clip: rect(1px 1px 1px 1px);clip: rect(1px, 1px, 1px, 1px);height: 1px;margin: -1px;overflow: hidden;padding: 0;position: absolute;width: 1px;}#sk-container-id-1 div.sk-estimator {font-family: monospace;background-color: #f0f8ff;border: 1px dotted black;border-radius: 0.25em;box-sizing: border-box;margin-bottom: 0.5em;}#sk-container-id-1 div.sk-estimator:hover {background-color: #d4ebff;}#sk-container-id-1 div.sk-parallel-item::after {content: \"\";width: 100%;border-bottom: 1px solid gray;flex-grow: 1;}#sk-container-id-1 div.sk-label:hover label.sk-toggleable__label {background-color: #d4ebff;}#sk-container-id-1 div.sk-serial::before {content: \"\";position: absolute;border-left: 1px solid gray;box-sizing: border-box;top: 0;bottom: 0;left: 50%;z-index: 0;}#sk-container-id-1 div.sk-serial {display: flex;flex-direction: column;align-items: center;background-color: white;padding-right: 0.2em;padding-left: 0.2em;position: relative;}#sk-container-id-1 div.sk-item {position: relative;z-index: 1;}#sk-container-id-1 div.sk-parallel {display: flex;align-items: stretch;justify-content: center;background-color: white;position: relative;}#sk-container-id-1 div.sk-item::before, #sk-container-id-1 div.sk-parallel-item::before {content: \"\";position: absolute;border-left: 1px solid gray;box-sizing: border-box;top: 0;bottom: 0;left: 50%;z-index: -1;}#sk-container-id-1 div.sk-parallel-item {display: flex;flex-direction: column;z-index: 1;position: relative;background-color: white;}#sk-container-id-1 div.sk-parallel-item:first-child::after {align-self: flex-end;width: 50%;}#sk-container-id-1 div.sk-parallel-item:last-child::after {align-self: flex-start;width: 50%;}#sk-container-id-1 div.sk-parallel-item:only-child::after {width: 0;}#sk-container-id-1 div.sk-dashed-wrapped {border: 1px dashed gray;margin: 0 0.4em 0.5em 0.4em;box-sizing: border-box;padding-bottom: 0.4em;background-color: white;}#sk-container-id-1 div.sk-label label {font-family: monospace;font-weight: bold;display: inline-block;line-height: 1.2em;}#sk-container-id-1 div.sk-label-container {text-align: center;}#sk-container-id-1 div.sk-container {/* jupyter's `normalize.less` sets `[hidden] { display: none; }` but bootstrap.min.css set `[hidden] { display: none !important; }` so we also need the `!important` here to be able to override the default hidden behavior on the sphinx rendered scikit-learn.org. See: https://github.com/scikit-learn/scikit-learn/issues/21755 */display: inline-block !important;position: relative;}#sk-container-id-1 div.sk-text-repr-fallback {display: none;}</style><div id=\"sk-container-id-1\" class=\"sk-top-container\"><div class=\"sk-text-repr-fallback\"><pre>DecisionTreeClassifier(criterion=&#x27;entropy&#x27;, random_state=0)</pre><b>In a Jupyter environment, please rerun this cell to show the HTML representation or trust the notebook. <br />On GitHub, the HTML representation is unable to render, please try loading this page with nbviewer.org.</b></div><div class=\"sk-container\" hidden><div class=\"sk-item\"><div class=\"sk-estimator sk-toggleable\"><input class=\"sk-toggleable__control sk-hidden--visually\" id=\"sk-estimator-id-1\" type=\"checkbox\" checked><label for=\"sk-estimator-id-1\" class=\"sk-toggleable__label sk-toggleable__label-arrow\">DecisionTreeClassifier</label><div class=\"sk-toggleable__content\"><pre>DecisionTreeClassifier(criterion=&#x27;entropy&#x27;, random_state=0)</pre></div></div></div></div></div>"
            ],
            "text/plain": [
              "DecisionTreeClassifier(criterion='entropy', random_state=0)"
            ]
          },
          "execution_count": 16,
          "metadata": {},
          "output_type": "execute_result"
        }
      ],
      "source": [
        "from sklearn.tree import DecisionTreeClassifier\n",
        "classifier = DecisionTreeClassifier(criterion='entropy', random_state=0)\n",
        "classifier.fit(X_train,y_train)"
      ]
    },
    {
      "cell_type": "code",
      "execution_count": null,
      "metadata": {
        "id": "9Vqa2TaTPpxd"
      },
      "outputs": [],
      "source": [
        "y_dc = classifier.predict(X_test)"
      ]
    },
    {
      "cell_type": "code",
      "execution_count": null,
      "metadata": {
        "colab": {
          "base_uri": "https://localhost:8080/",
          "height": 75
        },
        "id": "N-CuJLJ1diqb",
        "outputId": "ea4a369f-4f68-40b3-b693-cdbfba6c4d59"
      },
      "outputs": [
        {
          "data": {
            "text/html": [
              "<style>#sk-container-id-2 {color: black;background-color: white;}#sk-container-id-2 pre{padding: 0;}#sk-container-id-2 div.sk-toggleable {background-color: white;}#sk-container-id-2 label.sk-toggleable__label {cursor: pointer;display: block;width: 100%;margin-bottom: 0;padding: 0.3em;box-sizing: border-box;text-align: center;}#sk-container-id-2 label.sk-toggleable__label-arrow:before {content: \"▸\";float: left;margin-right: 0.25em;color: #696969;}#sk-container-id-2 label.sk-toggleable__label-arrow:hover:before {color: black;}#sk-container-id-2 div.sk-estimator:hover label.sk-toggleable__label-arrow:before {color: black;}#sk-container-id-2 div.sk-toggleable__content {max-height: 0;max-width: 0;overflow: hidden;text-align: left;background-color: #f0f8ff;}#sk-container-id-2 div.sk-toggleable__content pre {margin: 0.2em;color: black;border-radius: 0.25em;background-color: #f0f8ff;}#sk-container-id-2 input.sk-toggleable__control:checked~div.sk-toggleable__content {max-height: 200px;max-width: 100%;overflow: auto;}#sk-container-id-2 input.sk-toggleable__control:checked~label.sk-toggleable__label-arrow:before {content: \"▾\";}#sk-container-id-2 div.sk-estimator input.sk-toggleable__control:checked~label.sk-toggleable__label {background-color: #d4ebff;}#sk-container-id-2 div.sk-label input.sk-toggleable__control:checked~label.sk-toggleable__label {background-color: #d4ebff;}#sk-container-id-2 input.sk-hidden--visually {border: 0;clip: rect(1px 1px 1px 1px);clip: rect(1px, 1px, 1px, 1px);height: 1px;margin: -1px;overflow: hidden;padding: 0;position: absolute;width: 1px;}#sk-container-id-2 div.sk-estimator {font-family: monospace;background-color: #f0f8ff;border: 1px dotted black;border-radius: 0.25em;box-sizing: border-box;margin-bottom: 0.5em;}#sk-container-id-2 div.sk-estimator:hover {background-color: #d4ebff;}#sk-container-id-2 div.sk-parallel-item::after {content: \"\";width: 100%;border-bottom: 1px solid gray;flex-grow: 1;}#sk-container-id-2 div.sk-label:hover label.sk-toggleable__label {background-color: #d4ebff;}#sk-container-id-2 div.sk-serial::before {content: \"\";position: absolute;border-left: 1px solid gray;box-sizing: border-box;top: 0;bottom: 0;left: 50%;z-index: 0;}#sk-container-id-2 div.sk-serial {display: flex;flex-direction: column;align-items: center;background-color: white;padding-right: 0.2em;padding-left: 0.2em;position: relative;}#sk-container-id-2 div.sk-item {position: relative;z-index: 1;}#sk-container-id-2 div.sk-parallel {display: flex;align-items: stretch;justify-content: center;background-color: white;position: relative;}#sk-container-id-2 div.sk-item::before, #sk-container-id-2 div.sk-parallel-item::before {content: \"\";position: absolute;border-left: 1px solid gray;box-sizing: border-box;top: 0;bottom: 0;left: 50%;z-index: -1;}#sk-container-id-2 div.sk-parallel-item {display: flex;flex-direction: column;z-index: 1;position: relative;background-color: white;}#sk-container-id-2 div.sk-parallel-item:first-child::after {align-self: flex-end;width: 50%;}#sk-container-id-2 div.sk-parallel-item:last-child::after {align-self: flex-start;width: 50%;}#sk-container-id-2 div.sk-parallel-item:only-child::after {width: 0;}#sk-container-id-2 div.sk-dashed-wrapped {border: 1px dashed gray;margin: 0 0.4em 0.5em 0.4em;box-sizing: border-box;padding-bottom: 0.4em;background-color: white;}#sk-container-id-2 div.sk-label label {font-family: monospace;font-weight: bold;display: inline-block;line-height: 1.2em;}#sk-container-id-2 div.sk-label-container {text-align: center;}#sk-container-id-2 div.sk-container {/* jupyter's `normalize.less` sets `[hidden] { display: none; }` but bootstrap.min.css set `[hidden] { display: none !important; }` so we also need the `!important` here to be able to override the default hidden behavior on the sphinx rendered scikit-learn.org. See: https://github.com/scikit-learn/scikit-learn/issues/21755 */display: inline-block !important;position: relative;}#sk-container-id-2 div.sk-text-repr-fallback {display: none;}</style><div id=\"sk-container-id-2\" class=\"sk-top-container\"><div class=\"sk-text-repr-fallback\"><pre>RandomForestClassifier(criterion=&#x27;entropy&#x27;, n_estimators=10, random_state=0)</pre><b>In a Jupyter environment, please rerun this cell to show the HTML representation or trust the notebook. <br />On GitHub, the HTML representation is unable to render, please try loading this page with nbviewer.org.</b></div><div class=\"sk-container\" hidden><div class=\"sk-item\"><div class=\"sk-estimator sk-toggleable\"><input class=\"sk-toggleable__control sk-hidden--visually\" id=\"sk-estimator-id-2\" type=\"checkbox\" checked><label for=\"sk-estimator-id-2\" class=\"sk-toggleable__label sk-toggleable__label-arrow\">RandomForestClassifier</label><div class=\"sk-toggleable__content\"><pre>RandomForestClassifier(criterion=&#x27;entropy&#x27;, n_estimators=10, random_state=0)</pre></div></div></div></div></div>"
            ],
            "text/plain": [
              "RandomForestClassifier(criterion='entropy', n_estimators=10, random_state=0)"
            ]
          },
          "execution_count": 18,
          "metadata": {},
          "output_type": "execute_result"
        }
      ],
      "source": [
        "from sklearn.ensemble import RandomForestClassifier\n",
        "RandomForest = RandomForestClassifier(n_estimators=10,criterion='entropy', random_state=0)\n",
        "RandomForest.fit(X_train,y_train)"
      ]
    },
    {
      "cell_type": "code",
      "execution_count": null,
      "metadata": {
        "id": "H0Ia1xcQP19f"
      },
      "outputs": [],
      "source": [
        "y_rf = RandomForest.predict(X_test)"
      ]
    },
    {
      "cell_type": "code",
      "execution_count": null,
      "metadata": {
        "colab": {
          "base_uri": "https://localhost:8080/",
          "height": 75
        },
        "id": "dd4rTA5sRJBq",
        "outputId": "0392bb7c-1c49-44f8-8bdf-edcf0ed04c15"
      },
      "outputs": [
        {
          "data": {
            "text/html": [
              "<style>#sk-container-id-3 {color: black;background-color: white;}#sk-container-id-3 pre{padding: 0;}#sk-container-id-3 div.sk-toggleable {background-color: white;}#sk-container-id-3 label.sk-toggleable__label {cursor: pointer;display: block;width: 100%;margin-bottom: 0;padding: 0.3em;box-sizing: border-box;text-align: center;}#sk-container-id-3 label.sk-toggleable__label-arrow:before {content: \"▸\";float: left;margin-right: 0.25em;color: #696969;}#sk-container-id-3 label.sk-toggleable__label-arrow:hover:before {color: black;}#sk-container-id-3 div.sk-estimator:hover label.sk-toggleable__label-arrow:before {color: black;}#sk-container-id-3 div.sk-toggleable__content {max-height: 0;max-width: 0;overflow: hidden;text-align: left;background-color: #f0f8ff;}#sk-container-id-3 div.sk-toggleable__content pre {margin: 0.2em;color: black;border-radius: 0.25em;background-color: #f0f8ff;}#sk-container-id-3 input.sk-toggleable__control:checked~div.sk-toggleable__content {max-height: 200px;max-width: 100%;overflow: auto;}#sk-container-id-3 input.sk-toggleable__control:checked~label.sk-toggleable__label-arrow:before {content: \"▾\";}#sk-container-id-3 div.sk-estimator input.sk-toggleable__control:checked~label.sk-toggleable__label {background-color: #d4ebff;}#sk-container-id-3 div.sk-label input.sk-toggleable__control:checked~label.sk-toggleable__label {background-color: #d4ebff;}#sk-container-id-3 input.sk-hidden--visually {border: 0;clip: rect(1px 1px 1px 1px);clip: rect(1px, 1px, 1px, 1px);height: 1px;margin: -1px;overflow: hidden;padding: 0;position: absolute;width: 1px;}#sk-container-id-3 div.sk-estimator {font-family: monospace;background-color: #f0f8ff;border: 1px dotted black;border-radius: 0.25em;box-sizing: border-box;margin-bottom: 0.5em;}#sk-container-id-3 div.sk-estimator:hover {background-color: #d4ebff;}#sk-container-id-3 div.sk-parallel-item::after {content: \"\";width: 100%;border-bottom: 1px solid gray;flex-grow: 1;}#sk-container-id-3 div.sk-label:hover label.sk-toggleable__label {background-color: #d4ebff;}#sk-container-id-3 div.sk-serial::before {content: \"\";position: absolute;border-left: 1px solid gray;box-sizing: border-box;top: 0;bottom: 0;left: 50%;z-index: 0;}#sk-container-id-3 div.sk-serial {display: flex;flex-direction: column;align-items: center;background-color: white;padding-right: 0.2em;padding-left: 0.2em;position: relative;}#sk-container-id-3 div.sk-item {position: relative;z-index: 1;}#sk-container-id-3 div.sk-parallel {display: flex;align-items: stretch;justify-content: center;background-color: white;position: relative;}#sk-container-id-3 div.sk-item::before, #sk-container-id-3 div.sk-parallel-item::before {content: \"\";position: absolute;border-left: 1px solid gray;box-sizing: border-box;top: 0;bottom: 0;left: 50%;z-index: -1;}#sk-container-id-3 div.sk-parallel-item {display: flex;flex-direction: column;z-index: 1;position: relative;background-color: white;}#sk-container-id-3 div.sk-parallel-item:first-child::after {align-self: flex-end;width: 50%;}#sk-container-id-3 div.sk-parallel-item:last-child::after {align-self: flex-start;width: 50%;}#sk-container-id-3 div.sk-parallel-item:only-child::after {width: 0;}#sk-container-id-3 div.sk-dashed-wrapped {border: 1px dashed gray;margin: 0 0.4em 0.5em 0.4em;box-sizing: border-box;padding-bottom: 0.4em;background-color: white;}#sk-container-id-3 div.sk-label label {font-family: monospace;font-weight: bold;display: inline-block;line-height: 1.2em;}#sk-container-id-3 div.sk-label-container {text-align: center;}#sk-container-id-3 div.sk-container {/* jupyter's `normalize.less` sets `[hidden] { display: none; }` but bootstrap.min.css set `[hidden] { display: none !important; }` so we also need the `!important` here to be able to override the default hidden behavior on the sphinx rendered scikit-learn.org. See: https://github.com/scikit-learn/scikit-learn/issues/21755 */display: inline-block !important;position: relative;}#sk-container-id-3 div.sk-text-repr-fallback {display: none;}</style><div id=\"sk-container-id-3\" class=\"sk-top-container\"><div class=\"sk-text-repr-fallback\"><pre>SVC(random_state=0)</pre><b>In a Jupyter environment, please rerun this cell to show the HTML representation or trust the notebook. <br />On GitHub, the HTML representation is unable to render, please try loading this page with nbviewer.org.</b></div><div class=\"sk-container\" hidden><div class=\"sk-item\"><div class=\"sk-estimator sk-toggleable\"><input class=\"sk-toggleable__control sk-hidden--visually\" id=\"sk-estimator-id-3\" type=\"checkbox\" checked><label for=\"sk-estimator-id-3\" class=\"sk-toggleable__label sk-toggleable__label-arrow\">SVC</label><div class=\"sk-toggleable__content\"><pre>SVC(random_state=0)</pre></div></div></div></div></div>"
            ],
            "text/plain": [
              "SVC(random_state=0)"
            ]
          },
          "execution_count": 20,
          "metadata": {},
          "output_type": "execute_result"
        }
      ],
      "source": [
        "from sklearn.svm import SVC\n",
        "rbf = SVC(kernel = 'rbf', random_state = 0)\n",
        "rbf.fit(X_train, y_train)"
      ]
    },
    {
      "cell_type": "code",
      "execution_count": null,
      "metadata": {
        "id": "To88o4QIRMNL"
      },
      "outputs": [],
      "source": [
        "y_svm_rbf = rbf.predict(X_test)"
      ]
    },
    {
      "cell_type": "code",
      "execution_count": null,
      "metadata": {
        "colab": {
          "base_uri": "https://localhost:8080/",
          "height": 75
        },
        "id": "eqpX1etlRJ2U",
        "outputId": "0896d63c-91e6-408e-d42c-9dd4e5439eec"
      },
      "outputs": [
        {
          "data": {
            "text/html": [
              "<style>#sk-container-id-4 {color: black;background-color: white;}#sk-container-id-4 pre{padding: 0;}#sk-container-id-4 div.sk-toggleable {background-color: white;}#sk-container-id-4 label.sk-toggleable__label {cursor: pointer;display: block;width: 100%;margin-bottom: 0;padding: 0.3em;box-sizing: border-box;text-align: center;}#sk-container-id-4 label.sk-toggleable__label-arrow:before {content: \"▸\";float: left;margin-right: 0.25em;color: #696969;}#sk-container-id-4 label.sk-toggleable__label-arrow:hover:before {color: black;}#sk-container-id-4 div.sk-estimator:hover label.sk-toggleable__label-arrow:before {color: black;}#sk-container-id-4 div.sk-toggleable__content {max-height: 0;max-width: 0;overflow: hidden;text-align: left;background-color: #f0f8ff;}#sk-container-id-4 div.sk-toggleable__content pre {margin: 0.2em;color: black;border-radius: 0.25em;background-color: #f0f8ff;}#sk-container-id-4 input.sk-toggleable__control:checked~div.sk-toggleable__content {max-height: 200px;max-width: 100%;overflow: auto;}#sk-container-id-4 input.sk-toggleable__control:checked~label.sk-toggleable__label-arrow:before {content: \"▾\";}#sk-container-id-4 div.sk-estimator input.sk-toggleable__control:checked~label.sk-toggleable__label {background-color: #d4ebff;}#sk-container-id-4 div.sk-label input.sk-toggleable__control:checked~label.sk-toggleable__label {background-color: #d4ebff;}#sk-container-id-4 input.sk-hidden--visually {border: 0;clip: rect(1px 1px 1px 1px);clip: rect(1px, 1px, 1px, 1px);height: 1px;margin: -1px;overflow: hidden;padding: 0;position: absolute;width: 1px;}#sk-container-id-4 div.sk-estimator {font-family: monospace;background-color: #f0f8ff;border: 1px dotted black;border-radius: 0.25em;box-sizing: border-box;margin-bottom: 0.5em;}#sk-container-id-4 div.sk-estimator:hover {background-color: #d4ebff;}#sk-container-id-4 div.sk-parallel-item::after {content: \"\";width: 100%;border-bottom: 1px solid gray;flex-grow: 1;}#sk-container-id-4 div.sk-label:hover label.sk-toggleable__label {background-color: #d4ebff;}#sk-container-id-4 div.sk-serial::before {content: \"\";position: absolute;border-left: 1px solid gray;box-sizing: border-box;top: 0;bottom: 0;left: 50%;z-index: 0;}#sk-container-id-4 div.sk-serial {display: flex;flex-direction: column;align-items: center;background-color: white;padding-right: 0.2em;padding-left: 0.2em;position: relative;}#sk-container-id-4 div.sk-item {position: relative;z-index: 1;}#sk-container-id-4 div.sk-parallel {display: flex;align-items: stretch;justify-content: center;background-color: white;position: relative;}#sk-container-id-4 div.sk-item::before, #sk-container-id-4 div.sk-parallel-item::before {content: \"\";position: absolute;border-left: 1px solid gray;box-sizing: border-box;top: 0;bottom: 0;left: 50%;z-index: -1;}#sk-container-id-4 div.sk-parallel-item {display: flex;flex-direction: column;z-index: 1;position: relative;background-color: white;}#sk-container-id-4 div.sk-parallel-item:first-child::after {align-self: flex-end;width: 50%;}#sk-container-id-4 div.sk-parallel-item:last-child::after {align-self: flex-start;width: 50%;}#sk-container-id-4 div.sk-parallel-item:only-child::after {width: 0;}#sk-container-id-4 div.sk-dashed-wrapped {border: 1px dashed gray;margin: 0 0.4em 0.5em 0.4em;box-sizing: border-box;padding-bottom: 0.4em;background-color: white;}#sk-container-id-4 div.sk-label label {font-family: monospace;font-weight: bold;display: inline-block;line-height: 1.2em;}#sk-container-id-4 div.sk-label-container {text-align: center;}#sk-container-id-4 div.sk-container {/* jupyter's `normalize.less` sets `[hidden] { display: none; }` but bootstrap.min.css set `[hidden] { display: none !important; }` so we also need the `!important` here to be able to override the default hidden behavior on the sphinx rendered scikit-learn.org. See: https://github.com/scikit-learn/scikit-learn/issues/21755 */display: inline-block !important;position: relative;}#sk-container-id-4 div.sk-text-repr-fallback {display: none;}</style><div id=\"sk-container-id-4\" class=\"sk-top-container\"><div class=\"sk-text-repr-fallback\"><pre>LogisticRegression(random_state=0)</pre><b>In a Jupyter environment, please rerun this cell to show the HTML representation or trust the notebook. <br />On GitHub, the HTML representation is unable to render, please try loading this page with nbviewer.org.</b></div><div class=\"sk-container\" hidden><div class=\"sk-item\"><div class=\"sk-estimator sk-toggleable\"><input class=\"sk-toggleable__control sk-hidden--visually\" id=\"sk-estimator-id-4\" type=\"checkbox\" checked><label for=\"sk-estimator-id-4\" class=\"sk-toggleable__label sk-toggleable__label-arrow\">LogisticRegression</label><div class=\"sk-toggleable__content\"><pre>LogisticRegression(random_state=0)</pre></div></div></div></div></div>"
            ],
            "text/plain": [
              "LogisticRegression(random_state=0)"
            ]
          },
          "execution_count": 22,
          "metadata": {},
          "output_type": "execute_result"
        }
      ],
      "source": [
        "from sklearn.linear_model import LogisticRegression\n",
        "lr = LogisticRegression(random_state=0)\n",
        "lr.fit(X_train, y_train)"
      ]
    },
    {
      "cell_type": "code",
      "execution_count": null,
      "metadata": {
        "id": "drDQ2ZeKRsN1"
      },
      "outputs": [],
      "source": [
        "y_lr = lr.predict(X_test)"
      ]
    },
    {
      "cell_type": "code",
      "execution_count": null,
      "metadata": {
        "colab": {
          "base_uri": "https://localhost:8080/",
          "height": 75
        },
        "id": "rNWYjxbJ1q3a",
        "outputId": "3f1e4bb4-d1d8-42a1-d28d-a15e580bfd80"
      },
      "outputs": [
        {
          "data": {
            "text/html": [
              "<style>#sk-container-id-5 {color: black;background-color: white;}#sk-container-id-5 pre{padding: 0;}#sk-container-id-5 div.sk-toggleable {background-color: white;}#sk-container-id-5 label.sk-toggleable__label {cursor: pointer;display: block;width: 100%;margin-bottom: 0;padding: 0.3em;box-sizing: border-box;text-align: center;}#sk-container-id-5 label.sk-toggleable__label-arrow:before {content: \"▸\";float: left;margin-right: 0.25em;color: #696969;}#sk-container-id-5 label.sk-toggleable__label-arrow:hover:before {color: black;}#sk-container-id-5 div.sk-estimator:hover label.sk-toggleable__label-arrow:before {color: black;}#sk-container-id-5 div.sk-toggleable__content {max-height: 0;max-width: 0;overflow: hidden;text-align: left;background-color: #f0f8ff;}#sk-container-id-5 div.sk-toggleable__content pre {margin: 0.2em;color: black;border-radius: 0.25em;background-color: #f0f8ff;}#sk-container-id-5 input.sk-toggleable__control:checked~div.sk-toggleable__content {max-height: 200px;max-width: 100%;overflow: auto;}#sk-container-id-5 input.sk-toggleable__control:checked~label.sk-toggleable__label-arrow:before {content: \"▾\";}#sk-container-id-5 div.sk-estimator input.sk-toggleable__control:checked~label.sk-toggleable__label {background-color: #d4ebff;}#sk-container-id-5 div.sk-label input.sk-toggleable__control:checked~label.sk-toggleable__label {background-color: #d4ebff;}#sk-container-id-5 input.sk-hidden--visually {border: 0;clip: rect(1px 1px 1px 1px);clip: rect(1px, 1px, 1px, 1px);height: 1px;margin: -1px;overflow: hidden;padding: 0;position: absolute;width: 1px;}#sk-container-id-5 div.sk-estimator {font-family: monospace;background-color: #f0f8ff;border: 1px dotted black;border-radius: 0.25em;box-sizing: border-box;margin-bottom: 0.5em;}#sk-container-id-5 div.sk-estimator:hover {background-color: #d4ebff;}#sk-container-id-5 div.sk-parallel-item::after {content: \"\";width: 100%;border-bottom: 1px solid gray;flex-grow: 1;}#sk-container-id-5 div.sk-label:hover label.sk-toggleable__label {background-color: #d4ebff;}#sk-container-id-5 div.sk-serial::before {content: \"\";position: absolute;border-left: 1px solid gray;box-sizing: border-box;top: 0;bottom: 0;left: 50%;z-index: 0;}#sk-container-id-5 div.sk-serial {display: flex;flex-direction: column;align-items: center;background-color: white;padding-right: 0.2em;padding-left: 0.2em;position: relative;}#sk-container-id-5 div.sk-item {position: relative;z-index: 1;}#sk-container-id-5 div.sk-parallel {display: flex;align-items: stretch;justify-content: center;background-color: white;position: relative;}#sk-container-id-5 div.sk-item::before, #sk-container-id-5 div.sk-parallel-item::before {content: \"\";position: absolute;border-left: 1px solid gray;box-sizing: border-box;top: 0;bottom: 0;left: 50%;z-index: -1;}#sk-container-id-5 div.sk-parallel-item {display: flex;flex-direction: column;z-index: 1;position: relative;background-color: white;}#sk-container-id-5 div.sk-parallel-item:first-child::after {align-self: flex-end;width: 50%;}#sk-container-id-5 div.sk-parallel-item:last-child::after {align-self: flex-start;width: 50%;}#sk-container-id-5 div.sk-parallel-item:only-child::after {width: 0;}#sk-container-id-5 div.sk-dashed-wrapped {border: 1px dashed gray;margin: 0 0.4em 0.5em 0.4em;box-sizing: border-box;padding-bottom: 0.4em;background-color: white;}#sk-container-id-5 div.sk-label label {font-family: monospace;font-weight: bold;display: inline-block;line-height: 1.2em;}#sk-container-id-5 div.sk-label-container {text-align: center;}#sk-container-id-5 div.sk-container {/* jupyter's `normalize.less` sets `[hidden] { display: none; }` but bootstrap.min.css set `[hidden] { display: none !important; }` so we also need the `!important` here to be able to override the default hidden behavior on the sphinx rendered scikit-learn.org. See: https://github.com/scikit-learn/scikit-learn/issues/21755 */display: inline-block !important;position: relative;}#sk-container-id-5 div.sk-text-repr-fallback {display: none;}</style><div id=\"sk-container-id-5\" class=\"sk-top-container\"><div class=\"sk-text-repr-fallback\"><pre>GaussianNB()</pre><b>In a Jupyter environment, please rerun this cell to show the HTML representation or trust the notebook. <br />On GitHub, the HTML representation is unable to render, please try loading this page with nbviewer.org.</b></div><div class=\"sk-container\" hidden><div class=\"sk-item\"><div class=\"sk-estimator sk-toggleable\"><input class=\"sk-toggleable__control sk-hidden--visually\" id=\"sk-estimator-id-5\" type=\"checkbox\" checked><label for=\"sk-estimator-id-5\" class=\"sk-toggleable__label sk-toggleable__label-arrow\">GaussianNB</label><div class=\"sk-toggleable__content\"><pre>GaussianNB()</pre></div></div></div></div></div>"
            ],
            "text/plain": [
              "GaussianNB()"
            ]
          },
          "execution_count": 28,
          "metadata": {},
          "output_type": "execute_result"
        }
      ],
      "source": [
        "from sklearn.naive_bayes import GaussianNB\n",
        "gnb = GaussianNB()\n",
        "gnb.fit(X_train, y_train)"
      ]
    },
    {
      "cell_type": "code",
      "execution_count": null,
      "metadata": {
        "id": "QlLIQd2216c3"
      },
      "outputs": [],
      "source": [
        "y_pred_gnb = gnb.predict(X_test)"
      ]
    },
    {
      "cell_type": "code",
      "execution_count": null,
      "metadata": {
        "colab": {
          "base_uri": "https://localhost:8080/",
          "height": 75
        },
        "id": "20VQc37A19ui",
        "outputId": "d67f0a19-efb0-45c8-c6f4-f2b4ace25a89"
      },
      "outputs": [
        {
          "data": {
            "text/html": [
              "<style>#sk-container-id-6 {color: black;background-color: white;}#sk-container-id-6 pre{padding: 0;}#sk-container-id-6 div.sk-toggleable {background-color: white;}#sk-container-id-6 label.sk-toggleable__label {cursor: pointer;display: block;width: 100%;margin-bottom: 0;padding: 0.3em;box-sizing: border-box;text-align: center;}#sk-container-id-6 label.sk-toggleable__label-arrow:before {content: \"▸\";float: left;margin-right: 0.25em;color: #696969;}#sk-container-id-6 label.sk-toggleable__label-arrow:hover:before {color: black;}#sk-container-id-6 div.sk-estimator:hover label.sk-toggleable__label-arrow:before {color: black;}#sk-container-id-6 div.sk-toggleable__content {max-height: 0;max-width: 0;overflow: hidden;text-align: left;background-color: #f0f8ff;}#sk-container-id-6 div.sk-toggleable__content pre {margin: 0.2em;color: black;border-radius: 0.25em;background-color: #f0f8ff;}#sk-container-id-6 input.sk-toggleable__control:checked~div.sk-toggleable__content {max-height: 200px;max-width: 100%;overflow: auto;}#sk-container-id-6 input.sk-toggleable__control:checked~label.sk-toggleable__label-arrow:before {content: \"▾\";}#sk-container-id-6 div.sk-estimator input.sk-toggleable__control:checked~label.sk-toggleable__label {background-color: #d4ebff;}#sk-container-id-6 div.sk-label input.sk-toggleable__control:checked~label.sk-toggleable__label {background-color: #d4ebff;}#sk-container-id-6 input.sk-hidden--visually {border: 0;clip: rect(1px 1px 1px 1px);clip: rect(1px, 1px, 1px, 1px);height: 1px;margin: -1px;overflow: hidden;padding: 0;position: absolute;width: 1px;}#sk-container-id-6 div.sk-estimator {font-family: monospace;background-color: #f0f8ff;border: 1px dotted black;border-radius: 0.25em;box-sizing: border-box;margin-bottom: 0.5em;}#sk-container-id-6 div.sk-estimator:hover {background-color: #d4ebff;}#sk-container-id-6 div.sk-parallel-item::after {content: \"\";width: 100%;border-bottom: 1px solid gray;flex-grow: 1;}#sk-container-id-6 div.sk-label:hover label.sk-toggleable__label {background-color: #d4ebff;}#sk-container-id-6 div.sk-serial::before {content: \"\";position: absolute;border-left: 1px solid gray;box-sizing: border-box;top: 0;bottom: 0;left: 50%;z-index: 0;}#sk-container-id-6 div.sk-serial {display: flex;flex-direction: column;align-items: center;background-color: white;padding-right: 0.2em;padding-left: 0.2em;position: relative;}#sk-container-id-6 div.sk-item {position: relative;z-index: 1;}#sk-container-id-6 div.sk-parallel {display: flex;align-items: stretch;justify-content: center;background-color: white;position: relative;}#sk-container-id-6 div.sk-item::before, #sk-container-id-6 div.sk-parallel-item::before {content: \"\";position: absolute;border-left: 1px solid gray;box-sizing: border-box;top: 0;bottom: 0;left: 50%;z-index: -1;}#sk-container-id-6 div.sk-parallel-item {display: flex;flex-direction: column;z-index: 1;position: relative;background-color: white;}#sk-container-id-6 div.sk-parallel-item:first-child::after {align-self: flex-end;width: 50%;}#sk-container-id-6 div.sk-parallel-item:last-child::after {align-self: flex-start;width: 50%;}#sk-container-id-6 div.sk-parallel-item:only-child::after {width: 0;}#sk-container-id-6 div.sk-dashed-wrapped {border: 1px dashed gray;margin: 0 0.4em 0.5em 0.4em;box-sizing: border-box;padding-bottom: 0.4em;background-color: white;}#sk-container-id-6 div.sk-label label {font-family: monospace;font-weight: bold;display: inline-block;line-height: 1.2em;}#sk-container-id-6 div.sk-label-container {text-align: center;}#sk-container-id-6 div.sk-container {/* jupyter's `normalize.less` sets `[hidden] { display: none; }` but bootstrap.min.css set `[hidden] { display: none !important; }` so we also need the `!important` here to be able to override the default hidden behavior on the sphinx rendered scikit-learn.org. See: https://github.com/scikit-learn/scikit-learn/issues/21755 */display: inline-block !important;position: relative;}#sk-container-id-6 div.sk-text-repr-fallback {display: none;}</style><div id=\"sk-container-id-6\" class=\"sk-top-container\"><div class=\"sk-text-repr-fallback\"><pre>SVC(kernel=&#x27;linear&#x27;)</pre><b>In a Jupyter environment, please rerun this cell to show the HTML representation or trust the notebook. <br />On GitHub, the HTML representation is unable to render, please try loading this page with nbviewer.org.</b></div><div class=\"sk-container\" hidden><div class=\"sk-item\"><div class=\"sk-estimator sk-toggleable\"><input class=\"sk-toggleable__control sk-hidden--visually\" id=\"sk-estimator-id-6\" type=\"checkbox\" checked><label for=\"sk-estimator-id-6\" class=\"sk-toggleable__label sk-toggleable__label-arrow\">SVC</label><div class=\"sk-toggleable__content\"><pre>SVC(kernel=&#x27;linear&#x27;)</pre></div></div></div></div></div>"
            ],
            "text/plain": [
              "SVC(kernel='linear')"
            ]
          },
          "execution_count": 30,
          "metadata": {},
          "output_type": "execute_result"
        }
      ],
      "source": [
        "from sklearn.svm import SVC\n",
        "linear_svm = SVC(kernel= 'linear')\n",
        "linear_svm.fit(X_train, y_train)"
      ]
    },
    {
      "cell_type": "code",
      "execution_count": null,
      "metadata": {
        "id": "F7EcmCYf2ION"
      },
      "outputs": [],
      "source": [
        "y_pred_svm = linear_svm.predict(X_test)"
      ]
    },
    {
      "cell_type": "markdown",
      "metadata": {
        "id": "U2Sl3VMjQ63R"
      },
      "source": [
        "# Acuracy Test"
      ]
    },
    {
      "cell_type": "code",
      "execution_count": null,
      "metadata": {
        "colab": {
          "base_uri": "https://localhost:8080/"
        },
        "id": "zFVS6726Qx_E",
        "outputId": "73b9f0c9-79d4-4a66-e24f-76da4648ba13"
      },
      "outputs": [
        {
          "data": {
            "text/plain": [
              "0.975"
            ]
          },
          "execution_count": 24,
          "metadata": {},
          "output_type": "execute_result"
        }
      ],
      "source": [
        "# Dicision Tree\n",
        "from sklearn.metrics import confusion_matrix, accuracy_score\n",
        "accuracy_score(y_test, y_dc)"
      ]
    },
    {
      "cell_type": "code",
      "execution_count": null,
      "metadata": {
        "colab": {
          "base_uri": "https://localhost:8080/"
        },
        "id": "5A2-GtWNdtzH",
        "outputId": "72b5592c-d39f-44b6-b9fc-efcafeb13a9d"
      },
      "outputs": [
        {
          "data": {
            "text/plain": [
              "0.975"
            ]
          },
          "execution_count": 25,
          "metadata": {},
          "output_type": "execute_result"
        }
      ],
      "source": [
        "# Random Forest\n",
        "from sklearn.metrics import confusion_matrix, accuracy_score\n",
        "accuracy_score(y_test, y_rf)"
      ]
    },
    {
      "cell_type": "code",
      "execution_count": null,
      "metadata": {
        "colab": {
          "base_uri": "https://localhost:8080/"
        },
        "id": "j39NzqMYQaPa",
        "outputId": "edb435ff-c092-49eb-96b9-923584811c56"
      },
      "outputs": [
        {
          "data": {
            "text/plain": [
              "0.975"
            ]
          },
          "execution_count": 26,
          "metadata": {},
          "output_type": "execute_result"
        }
      ],
      "source": [
        "# Random Forest\n",
        "from sklearn.metrics import confusion_matrix, accuracy_score\n",
        "accuracy_score(y_test, y_svm_rbf)"
      ]
    },
    {
      "cell_type": "code",
      "execution_count": null,
      "metadata": {
        "colab": {
          "base_uri": "https://localhost:8080/"
        },
        "id": "5gQpAoz5Rx-V",
        "outputId": "bdd71801-fedb-4f60-e4df-3d1706775f34"
      },
      "outputs": [
        {
          "data": {
            "text/plain": [
              "0.975"
            ]
          },
          "execution_count": 27,
          "metadata": {},
          "output_type": "execute_result"
        }
      ],
      "source": [
        "# Random Forest\n",
        "from sklearn.metrics import confusion_matrix, accuracy_score\n",
        "accuracy_score(y_test, y_lr)"
      ]
    }
  ],
  "metadata": {
    "colab": {
      "provenance": []
    },
    "kernelspec": {
      "display_name": "Python 3",
      "name": "python3"
    },
    "language_info": {
      "codemirror_mode": {
        "name": "ipython",
        "version": 3
      },
      "file_extension": ".py",
      "mimetype": "text/x-python",
      "name": "python",
      "nbconvert_exporter": "python",
      "pygments_lexer": "ipython3",
      "version": "3.10.8"
    }
  },
  "nbformat": 4,
  "nbformat_minor": 0
}
