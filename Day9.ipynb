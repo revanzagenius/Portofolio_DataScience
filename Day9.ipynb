{
 "cells": [
  {
   "cell_type": "markdown",
   "id": "da9e113f",
   "metadata": {},
   "source": [
    "### List"
   ]
  },
  {
   "cell_type": "code",
   "execution_count": 1,
   "id": "b8285d86",
   "metadata": {},
   "outputs": [
    {
     "name": "stdout",
     "output_type": "stream",
     "text": [
      "['aaa', 'x', 100, 3.14, True]\n"
     ]
    }
   ],
   "source": [
    "list1 = ['aaa','x',100,3.14,True]\n",
    "print (list1)"
   ]
  },
  {
   "cell_type": "code",
   "execution_count": 2,
   "id": "86396965",
   "metadata": {},
   "outputs": [
    {
     "name": "stdout",
     "output_type": "stream",
     "text": [
      "100\n"
     ]
    }
   ],
   "source": [
    "print (list1[2])"
   ]
  },
  {
   "cell_type": "code",
   "execution_count": 3,
   "id": "ba9ef592",
   "metadata": {},
   "outputs": [
    {
     "name": "stdout",
     "output_type": "stream",
     "text": [
      "['x', 100, 3.14]\n"
     ]
    }
   ],
   "source": [
    "print (list1[1:4])"
   ]
  },
  {
   "cell_type": "code",
   "execution_count": 5,
   "id": "b05f74e9",
   "metadata": {},
   "outputs": [
    {
     "name": "stdout",
     "output_type": "stream",
     "text": [
      "['aaa', 'x', 100, 3.14, False]\n"
     ]
    }
   ],
   "source": [
    "list1[-1] = False\n",
    "print(list1)"
   ]
  },
  {
   "cell_type": "code",
   "execution_count": 6,
   "id": "e98ce554",
   "metadata": {},
   "outputs": [
    {
     "name": "stdout",
     "output_type": "stream",
     "text": [
      "['aaa', 'x', 100, False]\n"
     ]
    }
   ],
   "source": [
    "del list1[3]\n",
    "print(list1)"
   ]
  },
  {
   "cell_type": "code",
   "execution_count": 11,
   "id": "1cfa0862",
   "metadata": {},
   "outputs": [
    {
     "name": "stdout",
     "output_type": "stream",
     "text": [
      "[1, 4, 9, 16, 25]\n"
     ]
    }
   ],
   "source": [
    "a = [1,2,3,4,5]\n",
    "b = [a[0]**2,a[1]**2,a[2]**2,a[3]**2,a[4]**2]\n",
    "print (b)"
   ]
  },
  {
   "cell_type": "code",
   "execution_count": 26,
   "id": "4051345b",
   "metadata": {},
   "outputs": [
    {
     "name": "stdout",
     "output_type": "stream",
     "text": [
      "[1]\n",
      "[1, 4]\n",
      "[1, 4, 9]\n",
      "[1, 4, 9, 16]\n",
      "[1, 4, 9, 16, 25]\n"
     ]
    }
   ],
   "source": [
    "a = [1,2,3,4,5] \n",
    "b = []\n",
    "for i in a:\n",
    "    b.append(i**2)\n",
    "    print(b)"
   ]
  },
  {
   "cell_type": "code",
   "execution_count": 33,
   "id": "e3c4f4fd",
   "metadata": {},
   "outputs": [
    {
     "name": "stdout",
     "output_type": "stream",
     "text": [
      "[1, 4, 9, 16, 25]\n"
     ]
    }
   ],
   "source": [
    "a = [1,2,3,4,5]; b = [pow(x,2) for x in a]\n",
    "print(b)"
   ]
  },
  {
   "cell_type": "code",
   "execution_count": 31,
   "id": "0fb3747b",
   "metadata": {},
   "outputs": [
    {
     "name": "stdout",
     "output_type": "stream",
     "text": [
      "[1, 4, 16, 25]\n"
     ]
    }
   ],
   "source": [
    "#cara 1\n",
    "a=[1,2,4,5]; b = [x**2 for x in a]\n",
    "print(b)"
   ]
  },
  {
   "cell_type": "code",
   "execution_count": 39,
   "id": "8b4b3f81",
   "metadata": {},
   "outputs": [
    {
     "data": {
      "text/plain": [
       "['ad',\n",
       " 'ac',\n",
       " 'ab',\n",
       " 'aa',\n",
       " 'bd',\n",
       " 'bc',\n",
       " 'bb',\n",
       " 'ba',\n",
       " 'cd',\n",
       " 'cc',\n",
       " 'cb',\n",
       " 'ca',\n",
       " 'dd',\n",
       " 'dc',\n",
       " 'db',\n",
       " 'da']"
      ]
     },
     "execution_count": 39,
     "metadata": {},
     "output_type": "execute_result"
    }
   ],
   "source": [
    "a1 = ['a','b','c','d']\n",
    "a2 = ['d','c','b','a']\n",
    "a3 = [x + y for x in a1 for y in a2]\n",
    "a3"
   ]
  },
  {
   "cell_type": "markdown",
   "id": "554c72b3",
   "metadata": {},
   "source": [
    "### Tuple"
   ]
  },
  {
   "cell_type": "code",
   "execution_count": 36,
   "id": "24973132",
   "metadata": {},
   "outputs": [
    {
     "name": "stdout",
     "output_type": "stream",
     "text": [
      "(1, 2, 3, 4, 5)\n"
     ]
    }
   ],
   "source": [
    "tup  = (1,2,3,4,5)\n",
    "print (tup)"
   ]
  },
  {
   "cell_type": "code",
   "execution_count": 45,
   "id": "0a1b12bc",
   "metadata": {},
   "outputs": [
    {
     "name": "stdout",
     "output_type": "stream",
     "text": [
      "a d\n",
      "b c\n",
      "c b\n",
      "d a\n"
     ]
    }
   ],
   "source": [
    "a1 = ['a','b','c','d']\n",
    "a2 = ['d','c','b','a']\n",
    "c1 = zip(a1,a2)\n",
    "for x,y in c1:\n",
    "    print(x,y)"
   ]
  },
  {
   "cell_type": "code",
   "execution_count": 46,
   "id": "27a2359d",
   "metadata": {},
   "outputs": [
    {
     "name": "stdout",
     "output_type": "stream",
     "text": [
      "a 1 x\n",
      "b 2 y\n"
     ]
    }
   ],
   "source": [
    "b1 = ['a','b']\n",
    "b2 = ['1','2']\n",
    "b3 = ['x','y']\n",
    "for x,y,z in zip(b1,b2,b3): print (x,y,z)"
   ]
  },
  {
   "cell_type": "code",
   "execution_count": 49,
   "id": "e1d3de9e",
   "metadata": {},
   "outputs": [
    {
     "data": {
      "text/plain": [
       "11.2"
      ]
     },
     "execution_count": 49,
     "metadata": {},
     "output_type": "execute_result"
    }
   ],
   "source": [
    "tup3 = (\"Apple\", [1,2,3], (11,11.2, False))\n",
    "tup3\n",
    "tup3[-1][1]"
   ]
  },
  {
   "cell_type": "code",
   "execution_count": 50,
   "id": "caab7368",
   "metadata": {},
   "outputs": [
    {
     "data": {
      "text/plain": [
       "2"
      ]
     },
     "execution_count": 50,
     "metadata": {},
     "output_type": "execute_result"
    }
   ],
   "source": [
    "tup5 = (1,2,1,3,4,5)\n",
    "tup5.count(1)"
   ]
  },
  {
   "cell_type": "code",
   "execution_count": 51,
   "id": "1596075e",
   "metadata": {},
   "outputs": [
    {
     "name": "stdout",
     "output_type": "stream",
     "text": [
      "Return True if bool(x) is True for all values x in the iterable.\n",
      "\n",
      "If the iterable is empty, return True.\n"
     ]
    }
   ],
   "source": [
    "print(all.__doc__)"
   ]
  },
  {
   "cell_type": "code",
   "execution_count": 52,
   "id": "3b69d314",
   "metadata": {},
   "outputs": [
    {
     "data": {
      "text/plain": [
       "True"
      ]
     },
     "execution_count": 52,
     "metadata": {},
     "output_type": "execute_result"
    }
   ],
   "source": [
    "t = [True,True,True]\n",
    "all(t)"
   ]
  },
  {
   "cell_type": "code",
   "execution_count": 2,
   "id": "f26eefb9",
   "metadata": {},
   "outputs": [
    {
     "data": {
      "text/plain": [
       "True"
      ]
     },
     "execution_count": 2,
     "metadata": {},
     "output_type": "execute_result"
    }
   ],
   "source": [
    "t1 = (2,2,2)\n",
    "t2 = (2,2,2)\n",
    "all( elemt == t1[0] for elemt in t1 )"
   ]
  },
  {
   "cell_type": "code",
   "execution_count": 65,
   "id": "5d2122b9",
   "metadata": {},
   "outputs": [
    {
     "name": "stdout",
     "output_type": "stream",
     "text": [
      "False\n",
      "True\n"
     ]
    }
   ],
   "source": [
    "def checkSama(s):\n",
    "    return all (x == s[0] for x in s)\n",
    "# panggil fungsi \n",
    "print (checkSama(t1))\n",
    "print (checkSama(t2))"
   ]
  },
  {
   "cell_type": "code",
   "execution_count": 72,
   "id": "ee8bc010",
   "metadata": {},
   "outputs": [
    {
     "name": "stdout",
     "output_type": "stream",
     "text": [
      "{'satu': 1, 'dua': 2, 'tiga': 3}\n"
     ]
    }
   ],
   "source": [
    "keys = ['satu','dua','tiga']\n",
    "values = [1,2,3]\n",
    "dic = {}\n",
    "for key in keys :\n",
    "    for value in values:\n",
    "        dic[key] = value\n",
    "        values.remove(value)\n",
    "        break\n",
    "print(dic)"
   ]
  },
  {
   "cell_type": "code",
   "execution_count": 73,
   "id": "de98f424",
   "metadata": {},
   "outputs": [
    {
     "data": {
      "text/plain": [
       "{'a': 1, 'b': 2, 'c': 3}"
      ]
     },
     "execution_count": 73,
     "metadata": {},
     "output_type": "execute_result"
    }
   ],
   "source": [
    "keys = ['a','b','c']\n",
    "values = [1,2,3]\n",
    "dic2 = dict(zip(keys,values))\n",
    "dic2"
   ]
  },
  {
   "cell_type": "code",
   "execution_count": 71,
   "id": "f8a08ecf",
   "metadata": {},
   "outputs": [
    {
     "data": {
      "text/plain": [
       "{1, 2, 12}"
      ]
     },
     "execution_count": 71,
     "metadata": {},
     "output_type": "execute_result"
    }
   ],
   "source": [
    "t1 = (2,1,2,12)\n",
    "s1 = set(t1)\n",
    "s1"
   ]
  },
  {
   "cell_type": "markdown",
   "id": "e9b95ba3",
   "metadata": {},
   "source": [
    "### Fungsion"
   ]
  },
  {
   "cell_type": "code",
   "execution_count": null,
   "id": "6a1aacce",
   "metadata": {},
   "outputs": [],
   "source": [
    "def printme(str)\n",
    "    'This is String'\n",
    "    print (str)"
   ]
  }
 ],
 "metadata": {
  "kernelspec": {
   "display_name": "Python 3 (ipykernel)",
   "language": "python",
   "name": "python3"
  },
  "language_info": {
   "codemirror_mode": {
    "name": "ipython",
    "version": 3
   },
   "file_extension": ".py",
   "mimetype": "text/x-python",
   "name": "python",
   "nbconvert_exporter": "python",
   "pygments_lexer": "ipython3",
   "version": "3.10.9"
  }
 },
 "nbformat": 4,
 "nbformat_minor": 5
}
