{
 "cells": [
  {
   "cell_type": "code",
   "execution_count": 3,
   "id": "8f8b3b1a",
   "metadata": {},
   "outputs": [],
   "source": [
    "import tensorflow as tf\n",
    "from keras.preprocessing.image import ImageDataGenerator\n",
    "from tensorflow.keras.utils import load_img"
   ]
  },
  {
   "cell_type": "markdown",
   "id": "63564b20",
   "metadata": {},
   "source": [
    "   # Part 1 - Data Preprocessing"
   ]
  },
  {
   "cell_type": "markdown",
   "id": "8615f256",
   "metadata": {},
   "source": [
    "   ## Preprocessing Training Set"
   ]
  },
  {
   "cell_type": "code",
   "execution_count": 4,
   "id": "db277135",
   "metadata": {},
   "outputs": [],
   "source": [
    "train_datagen = ImageDataGenerator(\n",
    "        rescale=1./255,\n",
    "        shear_range=0.2,\n",
    "        zoom_range=0.2,\n",
    "        horizontal_flip=True)"
   ]
  },
  {
   "cell_type": "code",
   "execution_count": 5,
   "id": "6c542632",
   "metadata": {},
   "outputs": [
    {
     "name": "stdout",
     "output_type": "stream",
     "text": [
      "Found 8000 images belonging to 2 classes.\n"
     ]
    }
   ],
   "source": [
    "training_set = train_datagen.flow_from_directory(\n",
    "        'Dataset_CNN/training_set',\n",
    "        target_size=(64, 64),\n",
    "        batch_size=32,\n",
    "        class_mode='binary')"
   ]
  },
  {
   "cell_type": "markdown",
   "id": "6a1f2c4d",
   "metadata": {},
   "source": [
    "## Preprocessing the Test Set"
   ]
  },
  {
   "cell_type": "code",
   "execution_count": 6,
   "id": "52fff40d",
   "metadata": {},
   "outputs": [],
   "source": [
    "test_datagen = ImageDataGenerator(\n",
    "        rescale=1./255)"
   ]
  },
  {
   "cell_type": "code",
   "execution_count": 7,
   "id": "876f034b",
   "metadata": {},
   "outputs": [
    {
     "name": "stdout",
     "output_type": "stream",
     "text": [
      "Found 2000 images belonging to 2 classes.\n"
     ]
    }
   ],
   "source": [
    "test_set = test_datagen.flow_from_directory(\n",
    "        'Dataset_CNN/test_set',\n",
    "        target_size=(64, 64),\n",
    "        batch_size=32,\n",
    "        class_mode='binary')"
   ]
  },
  {
   "cell_type": "markdown",
   "id": "6fa83e7b",
   "metadata": {},
   "source": [
    "# Part 2 - Building the CNN"
   ]
  },
  {
   "cell_type": "markdown",
   "id": "7014359f",
   "metadata": {},
   "source": [
    "## Initialing the CNN"
   ]
  },
  {
   "cell_type": "code",
   "execution_count": 8,
   "id": "46f828db",
   "metadata": {},
   "outputs": [],
   "source": [
    "cnn = tf.keras.models.Sequential()"
   ]
  },
  {
   "cell_type": "markdown",
   "id": "7c602bf8",
   "metadata": {},
   "source": [
    "## Step 1 - Convolutional"
   ]
  },
  {
   "cell_type": "code",
   "execution_count": 9,
   "id": "21701497",
   "metadata": {},
   "outputs": [],
   "source": [
    "cnn.add(tf.keras.layers.Conv2D(filters=32, kernel_size=3, activation='relu', input_shape=[64, 64, 3]))"
   ]
  },
  {
   "cell_type": "markdown",
   "id": "ba68267f",
   "metadata": {},
   "source": [
    "## Step 2 - Max Pooling"
   ]
  },
  {
   "cell_type": "code",
   "execution_count": 10,
   "id": "1f02d87a",
   "metadata": {},
   "outputs": [],
   "source": [
    "cnn.add(tf.keras.layers.MaxPool2D(pool_size=2, strides=2))"
   ]
  },
  {
   "cell_type": "markdown",
   "id": "d5d191d7",
   "metadata": {},
   "source": [
    "## Adding the Second Conv"
   ]
  },
  {
   "cell_type": "code",
   "execution_count": 11,
   "id": "b1cde206",
   "metadata": {},
   "outputs": [],
   "source": [
    "cnn.add(tf.keras.layers.Conv2D(filters=32, kernel_size=3, activation='relu'))\n",
    "cnn.add(tf.keras.layers.MaxPool2D(pool_size=2, strides=2))"
   ]
  },
  {
   "cell_type": "markdown",
   "id": "2b72850a",
   "metadata": {},
   "source": [
    "## Step 3 - Flattening "
   ]
  },
  {
   "cell_type": "code",
   "execution_count": 12,
   "id": "2c93f916",
   "metadata": {},
   "outputs": [],
   "source": [
    "cnn.add(tf.keras.layers.Flatten())"
   ]
  },
  {
   "cell_type": "markdown",
   "id": "2799629c",
   "metadata": {},
   "source": [
    "## Step 4 - Full Connection"
   ]
  },
  {
   "cell_type": "code",
   "execution_count": 13,
   "id": "40a64160",
   "metadata": {},
   "outputs": [],
   "source": [
    "cnn.add(tf.keras.layers.Dense(units=128, activation='relu'))"
   ]
  },
  {
   "cell_type": "markdown",
   "id": "1c40fbd9",
   "metadata": {},
   "source": [
    "## Step 5 - Output Layer"
   ]
  },
  {
   "cell_type": "code",
   "execution_count": 14,
   "id": "a2c4ba12",
   "metadata": {},
   "outputs": [],
   "source": [
    "cnn.add(tf.keras.layers.Dense(units=1, activation='sigmoid'))"
   ]
  },
  {
   "cell_type": "markdown",
   "id": "09538b22",
   "metadata": {},
   "source": [
    "# Part 3 - Training The CNN"
   ]
  },
  {
   "cell_type": "markdown",
   "id": "1fe5c745",
   "metadata": {},
   "source": [
    "## Compliting the CNN"
   ]
  },
  {
   "cell_type": "code",
   "execution_count": 15,
   "id": "9e42a1fa",
   "metadata": {},
   "outputs": [],
   "source": [
    "cnn.compile(optimizer= 'adam', loss = 'binary_crossentropy', metrics = ['accuracy'])"
   ]
  },
  {
   "cell_type": "markdown",
   "id": "d18f3331",
   "metadata": {},
   "source": [
    "## Training "
   ]
  },
  {
   "cell_type": "code",
   "execution_count": 16,
   "id": "27e769e5",
   "metadata": {},
   "outputs": [],
   "source": [
    "import os\n",
    "os.environ['KMP_DUPLICATE_LIB_OK']='True'"
   ]
  },
  {
   "cell_type": "code",
   "execution_count": 17,
   "id": "2ea06013",
   "metadata": {},
   "outputs": [
    {
     "name": "stdout",
     "output_type": "stream",
     "text": [
      "Epoch 1/25\n",
      "250/250 [==============================] - 382s 2s/step - loss: 0.6693 - accuracy: 0.5932 - val_loss: 0.6119 - val_accuracy: 0.6685\n",
      "Epoch 2/25\n",
      "250/250 [==============================] - 86s 346ms/step - loss: 0.6159 - accuracy: 0.6695 - val_loss: 0.6031 - val_accuracy: 0.6815\n",
      "Epoch 3/25\n",
      "250/250 [==============================] - 84s 334ms/step - loss: 0.5627 - accuracy: 0.7085 - val_loss: 0.5710 - val_accuracy: 0.7120\n",
      "Epoch 4/25\n",
      "250/250 [==============================] - 84s 337ms/step - loss: 0.5252 - accuracy: 0.7344 - val_loss: 0.5264 - val_accuracy: 0.7545\n",
      "Epoch 5/25\n",
      "250/250 [==============================] - 87s 348ms/step - loss: 0.5008 - accuracy: 0.7541 - val_loss: 0.4917 - val_accuracy: 0.7715\n",
      "Epoch 6/25\n",
      "250/250 [==============================] - 84s 337ms/step - loss: 0.4815 - accuracy: 0.7694 - val_loss: 0.4887 - val_accuracy: 0.7635\n",
      "Epoch 7/25\n",
      "250/250 [==============================] - 89s 354ms/step - loss: 0.4615 - accuracy: 0.7754 - val_loss: 0.4901 - val_accuracy: 0.7785\n",
      "Epoch 8/25\n",
      "250/250 [==============================] - 85s 341ms/step - loss: 0.4472 - accuracy: 0.7900 - val_loss: 0.4831 - val_accuracy: 0.7670\n",
      "Epoch 9/25\n",
      "250/250 [==============================] - 90s 361ms/step - loss: 0.4260 - accuracy: 0.8021 - val_loss: 0.4683 - val_accuracy: 0.7910\n",
      "Epoch 10/25\n",
      "250/250 [==============================] - 87s 347ms/step - loss: 0.4172 - accuracy: 0.8076 - val_loss: 0.4632 - val_accuracy: 0.7945\n",
      "Epoch 11/25\n",
      "250/250 [==============================] - 90s 360ms/step - loss: 0.3961 - accuracy: 0.8223 - val_loss: 0.4662 - val_accuracy: 0.7825\n",
      "Epoch 12/25\n",
      "250/250 [==============================] - 88s 354ms/step - loss: 0.3830 - accuracy: 0.8285 - val_loss: 0.4760 - val_accuracy: 0.8000\n",
      "Epoch 13/25\n",
      "250/250 [==============================] - 89s 357ms/step - loss: 0.3649 - accuracy: 0.8372 - val_loss: 0.4868 - val_accuracy: 0.7805\n",
      "Epoch 14/25\n",
      "250/250 [==============================] - 88s 352ms/step - loss: 0.3548 - accuracy: 0.8416 - val_loss: 0.5121 - val_accuracy: 0.7860\n",
      "Epoch 15/25\n",
      "250/250 [==============================] - 88s 352ms/step - loss: 0.3414 - accuracy: 0.8515 - val_loss: 0.4898 - val_accuracy: 0.7680\n",
      "Epoch 16/25\n",
      "250/250 [==============================] - 87s 347ms/step - loss: 0.3211 - accuracy: 0.8626 - val_loss: 0.4848 - val_accuracy: 0.7925\n",
      "Epoch 17/25\n",
      "250/250 [==============================] - 88s 354ms/step - loss: 0.3079 - accuracy: 0.8687 - val_loss: 0.5553 - val_accuracy: 0.7640\n",
      "Epoch 18/25\n",
      "250/250 [==============================] - 87s 346ms/step - loss: 0.2918 - accuracy: 0.8760 - val_loss: 0.5029 - val_accuracy: 0.7940\n",
      "Epoch 19/25\n",
      "250/250 [==============================] - 87s 348ms/step - loss: 0.2666 - accuracy: 0.8865 - val_loss: 0.5315 - val_accuracy: 0.7945\n",
      "Epoch 20/25\n",
      "250/250 [==============================] - 89s 358ms/step - loss: 0.2654 - accuracy: 0.8863 - val_loss: 0.5365 - val_accuracy: 0.7875\n",
      "Epoch 21/25\n",
      "250/250 [==============================] - 92s 367ms/step - loss: 0.2509 - accuracy: 0.8975 - val_loss: 0.5207 - val_accuracy: 0.8150\n",
      "Epoch 22/25\n",
      "250/250 [==============================] - 92s 368ms/step - loss: 0.2306 - accuracy: 0.9060 - val_loss: 0.6397 - val_accuracy: 0.7710\n",
      "Epoch 23/25\n",
      "250/250 [==============================] - 91s 363ms/step - loss: 0.2275 - accuracy: 0.9056 - val_loss: 0.5267 - val_accuracy: 0.7985\n",
      "Epoch 24/25\n",
      "250/250 [==============================] - 90s 358ms/step - loss: 0.2182 - accuracy: 0.9140 - val_loss: 0.5207 - val_accuracy: 0.8130\n",
      "Epoch 25/25\n",
      "250/250 [==============================] - 92s 366ms/step - loss: 0.2075 - accuracy: 0.9168 - val_loss: 0.5973 - val_accuracy: 0.7930\n"
     ]
    },
    {
     "data": {
      "text/plain": [
       "<keras.callbacks.History at 0x1f8c8507d30>"
      ]
     },
     "execution_count": 17,
     "metadata": {},
     "output_type": "execute_result"
    }
   ],
   "source": [
    "cnn.fit(x = training_set, validation_data = test_set, epochs = 25)"
   ]
  },
  {
   "cell_type": "code",
   "execution_count": 24,
   "id": "3f930423",
   "metadata": {},
   "outputs": [
    {
     "name": "stdout",
     "output_type": "stream",
     "text": [
      "1/1 [==============================] - 0s 44ms/step\n",
      "[[0.]]\n",
      "0.0\n"
     ]
    }
   ],
   "source": [
    "import numpy as np\n",
    "#from keras.preprocessing import image\n",
    "import keras.utils as image\n",
    "test_image = image.load_img('2.jpeg', target_size = (64,64))\n",
    "test_image = image.img_to_array(test_image)\n",
    "test_image = np.expand_dims(test_image, axis= 0)\n",
    "result = cnn.predict(test_image)\n",
    "training_set.class_indices\n",
    "print(result)\n",
    "if result[0][0] == 1:\n",
    "    prediction = 'Anjing'\n",
    "else :\n",
    "    prediction = 'Kucing'\n",
    "print(result[0][0])"
   ]
  },
  {
   "cell_type": "code",
   "execution_count": 25,
   "id": "558e0ccf",
   "metadata": {},
   "outputs": [
    {
     "name": "stdout",
     "output_type": "stream",
     "text": [
      "Kucing\n"
     ]
    }
   ],
   "source": [
    "print(prediction)"
   ]
  },
  {
   "cell_type": "code",
   "execution_count": null,
   "id": "90c81d87",
   "metadata": {},
   "outputs": [],
   "source": []
  }
 ],
 "metadata": {
  "kernelspec": {
   "display_name": "Python 3 (ipykernel)",
   "language": "python",
   "name": "python3"
  },
  "language_info": {
   "codemirror_mode": {
    "name": "ipython",
    "version": 3
   },
   "file_extension": ".py",
   "mimetype": "text/x-python",
   "name": "python",
   "nbconvert_exporter": "python",
   "pygments_lexer": "ipython3",
   "version": "3.10.10"
  }
 },
 "nbformat": 4,
 "nbformat_minor": 5
}
