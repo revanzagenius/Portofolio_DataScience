{
 "cells": [
  {
   "cell_type": "markdown",
   "id": "8cc60ac4",
   "metadata": {},
   "source": [
    "### Hello Word And Comments\n",
    "Berikut ini adalah code Hello Word"
   ]
  },
  {
   "cell_type": "code",
   "execution_count": null,
   "id": "1b931169",
   "metadata": {},
   "outputs": [],
   "source": []
  },
  {
   "cell_type": "code",
   "execution_count": 8,
   "id": "87e90f9d",
   "metadata": {},
   "outputs": [
    {
     "name": "stdout",
     "output_type": "stream",
     "text": [
      "Hello Word!\n"
     ]
    }
   ],
   "source": [
    "print (\"Hello Word!\")"
   ]
  },
  {
   "cell_type": "code",
   "execution_count": 5,
   "id": "9f773815",
   "metadata": {},
   "outputs": [],
   "source": [
    "name = 'Batman' # DC's Superhero"
   ]
  },
  {
   "cell_type": "code",
   "execution_count": 6,
   "id": "b387c712",
   "metadata": {},
   "outputs": [
    {
     "name": "stdout",
     "output_type": "stream",
     "text": [
      "Hello Word!\n"
     ]
    }
   ],
   "source": [
    "# Single Line Comment\n",
    "print (\"Hello Word!\")"
   ]
  },
  {
   "cell_type": "code",
   "execution_count": 7,
   "id": "f92cdf7e",
   "metadata": {},
   "outputs": [
    {
     "name": "stdout",
     "output_type": "stream",
     "text": [
      "Batman\n"
     ]
    }
   ],
   "source": [
    "'''\n",
    "Multi Lane Comman\n",
    "'''\n",
    "print (name)"
   ]
  },
  {
   "cell_type": "markdown",
   "id": "cdc98440",
   "metadata": {},
   "source": [
    "Docstring command: dokumentasi untuk fungsi yang kita buat"
   ]
  },
  {
   "cell_type": "code",
   "execution_count": 3,
   "id": "d5f65c67",
   "metadata": {},
   "outputs": [],
   "source": [
    "def add (a,b):\n",
    "    return a+b"
   ]
  },
  {
   "cell_type": "code",
   "execution_count": 4,
   "id": "601580b0",
   "metadata": {},
   "outputs": [
    {
     "name": "stdout",
     "output_type": "stream",
     "text": [
      "None\n"
     ]
    }
   ],
   "source": [
    "#docs fungsi add\n",
    "print (add.__doc__)"
   ]
  },
  {
   "cell_type": "code",
   "execution_count": 9,
   "id": "7af06882",
   "metadata": {},
   "outputs": [
    {
     "name": "stdout",
     "output_type": "stream",
     "text": [
      "5\n"
     ]
    }
   ],
   "source": [
    "print (add(2,3))"
   ]
  },
  {
   "cell_type": "code",
   "execution_count": 2,
   "id": "b86e9280",
   "metadata": {},
   "outputs": [
    {
     "name": "stdout",
     "output_type": "stream",
     "text": [
      "Hasil Penjumlahan antara 2 dan 3 adalah 5 \n"
     ]
    },
    {
     "data": {
      "text/plain": [
       "5"
      ]
     },
     "execution_count": 2,
     "metadata": {},
     "output_type": "execute_result"
    }
   ],
   "source": [
    "def adx (a,b):\n",
    "    print (\"Hasil Penjumlahan antara %d dan %d adalah %d \"  % (a,b,a+b))\n",
    "    return a + b\n",
    "adx(2,3)"
   ]
  },
  {
   "cell_type": "markdown",
   "id": "54df08eb",
   "metadata": {},
   "source": [
    "  ### Variable In Phyton"
   ]
  },
  {
   "cell_type": "code",
   "execution_count": 4,
   "id": "510f4846",
   "metadata": {},
   "outputs": [
    {
     "name": "stdout",
     "output_type": "stream",
     "text": [
      "101\n",
      "Revanza \n"
     ]
    }
   ],
   "source": [
    "Jarak = 1000\n",
    "counter = 101\n",
    "nama = \"Revanza \"\n",
    "print (counter)\n",
    "print (nama)"
   ]
  },
  {
   "cell_type": "code",
   "execution_count": null,
   "id": "8ba8f3e1",
   "metadata": {},
   "outputs": [],
   "source": [
    "# delete variable \n",
    "del counter\n",
    "print (counter)"
   ]
  },
  {
   "cell_type": "code",
   "execution_count": 5,
   "id": "194c216b",
   "metadata": {},
   "outputs": [
    {
     "name": "stdout",
     "output_type": "stream",
     "text": [
      "100 100 100\n"
     ]
    }
   ],
   "source": [
    "#Multiple Assigment\n",
    "a = b = c = 100\n",
    "print (a,b,c)"
   ]
  },
  {
   "cell_type": "code",
   "execution_count": 6,
   "id": "b42cc52d",
   "metadata": {},
   "outputs": [
    {
     "name": "stdout",
     "output_type": "stream",
     "text": [
      "1 2 Revanza\n"
     ]
    }
   ],
   "source": [
    "a,b,c = 1,2,'Revanza'\n",
    "print (a,b,c)"
   ]
  },
  {
   "cell_type": "code",
   "execution_count": 7,
   "id": "6dfc731f",
   "metadata": {},
   "outputs": [],
   "source": [
    "#Valid Variable Name\n",
    "counter = 100\n",
    "_count = 100\n",
    "name1 =  'Zara'\n",
    "name2 ='Reva'\n",
    "Age = 21\n",
    "zara_salary = 10000\n",
    "nuha_salary = 100000"
   ]
  },
  {
   "cell_type": "code",
   "execution_count": 8,
   "id": "776b2aa9",
   "metadata": {},
   "outputs": [
    {
     "ename": "SyntaxError",
     "evalue": "invalid decimal literal (248264699.py, line 2)",
     "output_type": "error",
     "traceback": [
      "\u001b[1;36m  Cell \u001b[1;32mIn[8], line 2\u001b[1;36m\u001b[0m\n\u001b[1;33m    1counter = 100\u001b[0m\n\u001b[1;37m    ^\u001b[0m\n\u001b[1;31mSyntaxError\u001b[0m\u001b[1;31m:\u001b[0m invalid decimal literal\n"
     ]
    }
   ],
   "source": [
    "#Invalid Variable Name\n",
    "1counter = 100\n",
    "$_count = 100\n",
    "zara-salary =100000"
   ]
  },
  {
   "cell_type": "code",
   "execution_count": 9,
   "id": "9e4993fe",
   "metadata": {},
   "outputs": [
    {
     "name": "stdout",
     "output_type": "stream",
     "text": [
      "15\n"
     ]
    }
   ],
   "source": [
    "#Local Variable x & y\n",
    "def sum (x,y):\n",
    "    sum = x + y\n",
    "    return sum\n",
    "print (sum(5 , 10))"
   ]
  },
  {
   "cell_type": "code",
   "execution_count": 12,
   "id": "7681551b",
   "metadata": {},
   "outputs": [
    {
     "name": "stdout",
     "output_type": "stream",
     "text": [
      "15\n"
     ]
    }
   ],
   "source": [
    "#global variable\n",
    "x = 5\n",
    "y =  10\n",
    "def sum ():\n",
    "    sum = x + y\n",
    "    return sum\n",
    "print(sum())"
   ]
  },
  {
   "cell_type": "markdown",
   "id": "06dc774e",
   "metadata": {},
   "source": [
    "### Data type"
   ]
  },
  {
   "cell_type": "code",
   "execution_count": 14,
   "id": "c361997f",
   "metadata": {},
   "outputs": [
    {
     "name": "stdout",
     "output_type": "stream",
     "text": [
      "Vriable a adalah 100 \n",
      "Variable a adalah 100 yg tipe-nya adalah <class 'int'>\n"
     ]
    }
   ],
   "source": [
    "a = 100\n",
    "print (\"Vriable a adalah %d \"% (a) )\n",
    "print (\"Variable a adalah\" ,a,\"yg tipe-nya adalah\",type(a))"
   ]
  },
  {
   "cell_type": "code",
   "execution_count": 15,
   "id": "b1441294",
   "metadata": {},
   "outputs": [
    {
     "name": "stdout",
     "output_type": "stream",
     "text": [
      "type(object) -> the object's type\n",
      "type(name, bases, dict, **kwds) -> a new type\n"
     ]
    }
   ],
   "source": [
    "print (type.__doc__)"
   ]
  },
  {
   "cell_type": "code",
   "execution_count": null,
   "id": "1c7caa2e",
   "metadata": {},
   "outputs": [],
   "source": [
    "#String data type\n",
    "str = 'Hello Word'\n",
    "\n",
    "print (str)\n",
    "print (str[0])\n",
    "print (str[2 : 5])\n"
   ]
  }
 ],
 "metadata": {
  "kernelspec": {
   "display_name": "Python 3 (ipykernel)",
   "language": "python",
   "name": "python3"
  },
  "language_info": {
   "codemirror_mode": {
    "name": "ipython",
    "version": 3
   },
   "file_extension": ".py",
   "mimetype": "text/x-python",
   "name": "python",
   "nbconvert_exporter": "python",
   "pygments_lexer": "ipython3",
   "version": "3.10.9"
  }
 },
 "nbformat": 4,
 "nbformat_minor": 5
}
