{
 "cells": [
  {
   "cell_type": "markdown",
   "id": "470ae40c",
   "metadata": {},
   "source": [
    "### Oprator Aritmatics"
   ]
  },
  {
   "cell_type": "code",
   "execution_count": 6,
   "id": "ce8f9947",
   "metadata": {},
   "outputs": [
    {
     "name": "stdout",
     "output_type": "stream",
     "text": [
      "a + b :  31\n",
      "a - b :  11\n",
      "a * b :  210\n",
      "a / b :  2.1\n",
      "a ** b :  16679880978201\n",
      "a // b :  2\n"
     ]
    }
   ],
   "source": [
    "a = 21\n",
    "b = 10\n",
    "\n",
    "# Aditional \n",
    "print (\"a + b : \", a + b)\n",
    "print (\"a - b : \", a - b)\n",
    "print (\"a * b : \", a * b)\n",
    "print (\"a / b : \", a / b)\n",
    "print (\"a ** b : \", a ** b)\n",
    "print (\"a // b : \", a // b)"
   ]
  },
  {
   "cell_type": "markdown",
   "id": "f6bf5ba3",
   "metadata": {},
   "source": [
    "### Comparison"
   ]
  },
  {
   "cell_type": "code",
   "execution_count": 2,
   "id": "f97014e3",
   "metadata": {},
   "outputs": [
    {
     "name": "stdout",
     "output_type": "stream",
     "text": [
      "False\n",
      "True\n",
      "False\n",
      "True\n",
      "False\n",
      "True\n"
     ]
    }
   ],
   "source": [
    "print (4==5)\n",
    "print (4!=5)\n",
    "print (4 > 5)\n",
    "print (4 < 5)\n",
    "print (4 >= 5)\n",
    "print (4 <= 5)"
   ]
  },
  {
   "cell_type": "markdown",
   "id": "128665ed",
   "metadata": {},
   "source": [
    "### Assigment"
   ]
  },
  {
   "cell_type": "code",
   "execution_count": 26,
   "id": "555ae6db",
   "metadata": {},
   "outputs": [
    {
     "name": "stdout",
     "output_type": "stream",
     "text": [
      "a+=5 15\n",
      "a-=5 10\n",
      "a*=5 50\n"
     ]
    }
   ],
   "source": [
    "a = 10\n",
    "\n",
    "a+= 5\n",
    "print (\"a+=5\",a)\n",
    "\n",
    "a-=5\n",
    "print (\"a-=5\",a)\n",
    "\n",
    "a*=5\n",
    "print (\"a*=5\",a)\n",
    "\n",
    "a/=5\n",
    "a%=3\n",
    "a**=2\n",
    "a //=3"
   ]
  },
  {
   "cell_type": "markdown",
   "id": "c940aba0",
   "metadata": {},
   "source": [
    " ### Logical Oprator"
   ]
  },
  {
   "cell_type": "code",
   "execution_count": 8,
   "id": "7f2fe54f",
   "metadata": {},
   "outputs": [
    {
     "name": "stdout",
     "output_type": "stream",
     "text": [
      "False\n",
      "True\n"
     ]
    }
   ],
   "source": [
    "print ((1==1) and (1>2))\n",
    "print ((1==1) and not (1>2))"
   ]
  },
  {
   "cell_type": "markdown",
   "id": "9a0a5d47",
   "metadata": {},
   "source": [
    "### Membership Oprator"
   ]
  },
  {
   "cell_type": "code",
   "execution_count": 9,
   "id": "2aa4b10f",
   "metadata": {},
   "outputs": [
    {
     "name": "stdout",
     "output_type": "stream",
     "text": [
      "True\n"
     ]
    }
   ],
   "source": [
    "a = [1,2,3,4,5]\n",
    "print (2 in a)"
   ]
  },
  {
   "cell_type": "markdown",
   "id": "1f03d0cf",
   "metadata": {},
   "source": [
    "### Desicion Making"
   ]
  },
  {
   "cell_type": "code",
   "execution_count": 19,
   "id": "0584dd02",
   "metadata": {},
   "outputs": [
    {
     "name": "stdout",
     "output_type": "stream",
     "text": [
      "B == 12\n"
     ]
    }
   ],
   "source": [
    "b = 12\n",
    "if (b == 11):\n",
    "    print (\"B == 11\")\n",
    "elif (b == 12):\n",
    "    print (\"B == 12\")\n",
    "else :\n",
    "    print (\"Bukan Kedua Nya\")"
   ]
  },
  {
   "cell_type": "markdown",
   "id": "edfa8af7",
   "metadata": {},
   "source": [
    "## Shortthand If .. Else"
   ]
  },
  {
   "cell_type": "code",
   "execution_count": 22,
   "id": "64c07741",
   "metadata": {},
   "outputs": [
    {
     "name": "stdout",
     "output_type": "stream",
     "text": [
      "a lebih besar dari b\n"
     ]
    }
   ],
   "source": [
    "a = 11\n",
    "b = 33\n",
    "if a < b : print ('a lebih kecil dari b')"
   ]
  },
  {
   "cell_type": "code",
   "execution_count": 23,
   "id": "b6a8bd14",
   "metadata": {},
   "outputs": [
    {
     "name": "stdout",
     "output_type": "stream",
     "text": [
      "B\n"
     ]
    }
   ],
   "source": [
    "#Ternary Oprators\n",
    "print (\"A\") if a > b  else print (\"B\")"
   ]
  },
  {
   "cell_type": "code",
   "execution_count": 24,
   "id": "62a5baa6",
   "metadata": {},
   "outputs": [
    {
     "name": "stdout",
     "output_type": "stream",
     "text": [
      "B\n"
     ]
    }
   ],
   "source": [
    "# Nested Ternary\n",
    "print (\"A\") if a > b  else print  (\"==\") if a==b else print (\"B\")"
   ]
  },
  {
   "cell_type": "markdown",
   "id": "d2d0359c",
   "metadata": {},
   "source": [
    "  ### While Loop"
   ]
  },
  {
   "cell_type": "code",
   "execution_count": 29,
   "id": "4c4857a1",
   "metadata": {},
   "outputs": [
    {
     "name": "stdout",
     "output_type": "stream",
     "text": [
      "1\n",
      "2\n",
      "3\n",
      "4\n",
      "5\n",
      "6\n",
      "7\n",
      "8\n",
      "9\n"
     ]
    }
   ],
   "source": [
    "i = 1\n",
    "while i  < 15:\n",
    "    print (i)\n",
    "    if i == 9 :\n",
    "        break\n",
    "    i += 1"
   ]
  },
  {
   "cell_type": "code",
   "execution_count": 31,
   "id": "0c3d6be3",
   "metadata": {},
   "outputs": [
    {
     "name": "stdout",
     "output_type": "stream",
     "text": [
      "2\n",
      "3\n",
      "4\n",
      "5\n",
      "6\n",
      "7\n",
      "8\n",
      "10\n",
      "11\n",
      "12\n",
      "13\n",
      "14\n",
      "15\n"
     ]
    }
   ],
   "source": [
    "i = 1\n",
    "while i  < 15:\n",
    "    i += 1\n",
    "    if i == 9 : continue\n",
    "    print (i)"
   ]
  },
  {
   "cell_type": "code",
   "execution_count": 32,
   "id": "dc925531",
   "metadata": {},
   "outputs": [
    {
     "name": "stdout",
     "output_type": "stream",
     "text": [
      "Antman\n",
      "Batman\n",
      "Flash\n",
      "Avangers\n"
     ]
    }
   ],
   "source": [
    "films = [\"Antman\",\"Batman\",\"Flash\",\"Avangers\"]\n",
    "for  f in films:\n",
    "    print (f)"
   ]
  },
  {
   "cell_type": "code",
   "execution_count": 33,
   "id": "dac4fb51",
   "metadata": {},
   "outputs": [
    {
     "name": "stdout",
     "output_type": "stream",
     "text": [
      "b\n",
      "u\n",
      "a\n",
      "h\n",
      " \n",
      "n\n",
      "a\n",
      "g\n",
      "a\n"
     ]
    }
   ],
   "source": [
    "#String Bisa di-Looping\n",
    "for c in \"buah naga\":\n",
    "    print (c)\n",
    "    "
   ]
  },
  {
   "cell_type": "code",
   "execution_count": 34,
   "id": "f9046587",
   "metadata": {},
   "outputs": [
    {
     "name": "stdout",
     "output_type": "stream",
     "text": [
      "0\n",
      "1\n",
      "2\n",
      "3\n",
      "4\n",
      "5\n"
     ]
    }
   ],
   "source": [
    "for x in range (6):\n",
    "    print (x)"
   ]
  },
  {
   "cell_type": "code",
   "execution_count": 35,
   "id": "0013f96d",
   "metadata": {},
   "outputs": [
    {
     "name": "stdout",
     "output_type": "stream",
     "text": [
      "1\n",
      "3\n",
      "5\n",
      "7\n",
      "9\n",
      "11\n",
      "13\n",
      "15\n",
      "17\n",
      "19\n"
     ]
    }
   ],
   "source": [
    "for x in range (1,21,2):\n",
    "    print (x)"
   ]
  },
  {
   "cell_type": "code",
   "execution_count": 36,
   "id": "4a04e389",
   "metadata": {},
   "outputs": [
    {
     "name": "stdout",
     "output_type": "stream",
     "text": [
      "Bagus Antman\n",
      "Bagus Batman\n",
      "Bagus Flash\n",
      "Bagus Avangers\n",
      "Biasa Antman\n",
      "Biasa Batman\n",
      "Biasa Flash\n",
      "Biasa Avangers\n",
      "Perlu Perbaikan Antman\n",
      "Perlu Perbaikan Batman\n",
      "Perlu Perbaikan Flash\n",
      "Perlu Perbaikan Avangers\n",
      "Jelek Antman\n",
      "Jelek Batman\n",
      "Jelek Flash\n",
      "Jelek Avangers\n"
     ]
    }
   ],
   "source": [
    "#Nested Looping\n",
    "Films = ['Batman','Antman','Flash','Avengers']\n",
    "rating = ['Bagus','Biasa','Perlu Perbaikan','Jelek']\n",
    "for i in rating :\n",
    "    for j in films :\n",
    "        print (i,j)"
   ]
  },
  {
   "cell_type": "code",
   "execution_count": 37,
   "id": "a60be0dd",
   "metadata": {},
   "outputs": [],
   "source": [
    "#pass statment\n",
    "for x in [0,1,2]:\n",
    "    pass"
   ]
  },
  {
   "cell_type": "code",
   "execution_count": 38,
   "id": "0ed1d12f",
   "metadata": {},
   "outputs": [
    {
     "name": "stdout",
     "output_type": "stream",
     "text": [
      "3j\n",
      "<class 'complex'>\n"
     ]
    }
   ],
   "source": [
    "a =  1 #int\n",
    "b = 2.8 # FLoat\n",
    "c = 3j\n",
    "print (c)\n",
    "print (type(c))"
   ]
  },
  {
   "cell_type": "code",
   "execution_count": 39,
   "id": "90bdd4ef",
   "metadata": {},
   "outputs": [
    {
     "name": "stdout",
     "output_type": "stream",
     "text": [
      "2.7\n",
      "2\n"
     ]
    }
   ],
   "source": [
    "# Convert Variable\n",
    "a = 2.7\n",
    "b = int (a)\n",
    "print (a)\n",
    "print (b)"
   ]
  },
  {
   "cell_type": "code",
   "execution_count": 41,
   "id": "592cc8bf",
   "metadata": {},
   "outputs": [
    {
     "name": "stdout",
     "output_type": "stream",
     "text": [
      "var1[0] H\n"
     ]
    }
   ],
   "source": [
    "var1 = 'Hello World!'\n",
    "var2 = \"Hello World!\"\n",
    "\n",
    "print (\"var1[0]\", var1[0])"
   ]
  },
  {
   "cell_type": "code",
   "execution_count": 45,
   "id": "58e36228",
   "metadata": {},
   "outputs": [
    {
     "name": "stdout",
     "output_type": "stream",
     "text": [
      "o \n"
     ]
    }
   ],
   "source": [
    "b = \"Halo Dunia!\"\n",
    "print (b[3:5])"
   ]
  },
  {
   "cell_type": "code",
   "execution_count": 46,
   "id": "4289aa68",
   "metadata": {},
   "outputs": [
    {
     "name": "stdout",
     "output_type": "stream",
     "text": [
      "\u0007\n"
     ]
    }
   ],
   "source": [
    "print(\"\\a\")"
   ]
  },
  {
   "cell_type": "code",
   "execution_count": 48,
   "id": "f340a968",
   "metadata": {},
   "outputs": [
    {
     "name": "stdout",
     "output_type": "stream",
     "text": [
      "my name is Revanza an age is 21\n"
     ]
    }
   ],
   "source": [
    "print (\"my name is %s an age is %d\"%('Revanza',21))"
   ]
  },
  {
   "cell_type": "code",
   "execution_count": 68,
   "id": "c328edaa",
   "metadata": {},
   "outputs": [
    {
     "name": "stdout",
     "output_type": "stream",
     "text": [
      "Angka 1 adalah bilangan Ganjil\n",
      "Angka 2 adalah bilangan Genap\n",
      "Angka 3 adalah bilangan Ganjil\n",
      "Angka 4 adalah bilangan Genap\n",
      "Angka 5 adalah bilangan Ganjil\n",
      "Angka 6 adalah bilangan Genap\n",
      "Angka 7 adalah bilangan Ganjil\n",
      "Angka 8 adalah bilangan Genap\n",
      "Angka 9 adalah bilangan Ganjil\n",
      "Angka 10 adalah bilangan Genap\n",
      "Angka 11 adalah bilangan Ganjil\n",
      "Angka 12 adalah bilangan Genap\n",
      "Angka 13 adalah bilangan Ganjil\n",
      "Angka 14 adalah bilangan Genap\n",
      "Angka 15 adalah bilangan Ganjil\n",
      "Angka 16 adalah bilangan Genap\n",
      "Angka 17 adalah bilangan Ganjil\n",
      "Angka 18 adalah bilangan Genap\n",
      "Angka 19 adalah bilangan Ganjil\n",
      "Angka 20 adalah bilangan Genap\n",
      "Angka 21 adalah bilangan Ganjil\n",
      "Angka 22 adalah bilangan Genap\n",
      "Angka 23 adalah bilangan Ganjil\n",
      "Angka 24 adalah bilangan Genap\n",
      "Angka 25 adalah bilangan Ganjil\n",
      "Angka 26 adalah bilangan Genap\n",
      "Angka 27 adalah bilangan Ganjil\n",
      "Angka 28 adalah bilangan Genap\n",
      "Angka 29 adalah bilangan Ganjil\n",
      "Angka 30 adalah bilangan Genap\n",
      "Angka 31 adalah bilangan Ganjil\n",
      "Angka 32 adalah bilangan Genap\n",
      "Angka 33 adalah bilangan Ganjil\n",
      "Angka 34 adalah bilangan Genap\n",
      "Angka 35 adalah bilangan Ganjil\n",
      "Angka 36 adalah bilangan Genap\n",
      "Angka 37 adalah bilangan Ganjil\n",
      "Angka 38 adalah bilangan Genap\n",
      "Angka 39 adalah bilangan Ganjil\n",
      "Angka 40 adalah bilangan Genap\n",
      "Angka 41 adalah bilangan Ganjil\n",
      "Angka 42 adalah bilangan Genap\n",
      "Angka 43 adalah bilangan Ganjil\n",
      "Angka 44 adalah bilangan Genap\n",
      "Angka 45 adalah bilangan Ganjil\n",
      "Angka 46 adalah bilangan Genap\n",
      "Angka 47 adalah bilangan Ganjil\n",
      "Angka 48 adalah bilangan Genap\n",
      "Angka 49 adalah bilangan Ganjil\n",
      "Angka 50 adalah bilangan Genap\n",
      "Angka 51 adalah bilangan Ganjil\n",
      "Angka 52 adalah bilangan Genap\n",
      "Angka 53 adalah bilangan Ganjil\n",
      "Angka 54 adalah bilangan Genap\n",
      "Angka 55 adalah bilangan Ganjil\n",
      "Angka 56 adalah bilangan Genap\n",
      "Angka 57 adalah bilangan Ganjil\n",
      "Angka 58 adalah bilangan Genap\n",
      "Angka 59 adalah bilangan Ganjil\n",
      "Angka 60 adalah bilangan Genap\n",
      "Angka 61 adalah bilangan Ganjil\n",
      "Angka 62 adalah bilangan Genap\n",
      "Angka 63 adalah bilangan Ganjil\n",
      "Angka 64 adalah bilangan Genap\n",
      "Angka 65 adalah bilangan Ganjil\n",
      "Angka 66 adalah bilangan Genap\n",
      "Angka 67 adalah bilangan Ganjil\n",
      "Angka 68 adalah bilangan Genap\n",
      "Angka 69 adalah bilangan Ganjil\n",
      "Angka 70 adalah bilangan Genap\n",
      "Angka 71 adalah bilangan Ganjil\n",
      "Angka 72 adalah bilangan Genap\n",
      "Angka 73 adalah bilangan Ganjil\n",
      "Angka 74 adalah bilangan Genap\n",
      "Angka 75 adalah bilangan Ganjil\n",
      "Angka 76 adalah bilangan Genap\n",
      "Angka 77 adalah bilangan Ganjil\n",
      "Angka 78 adalah bilangan Genap\n",
      "Angka 79 adalah bilangan Ganjil\n",
      "Angka 80 adalah bilangan Genap\n",
      "Angka 81 adalah bilangan Ganjil\n",
      "Angka 82 adalah bilangan Genap\n",
      "Angka 83 adalah bilangan Ganjil\n",
      "Angka 84 adalah bilangan Genap\n",
      "Angka 85 adalah bilangan Ganjil\n",
      "Angka 86 adalah bilangan Genap\n",
      "Angka 87 adalah bilangan Ganjil\n",
      "Angka 88 adalah bilangan Genap\n",
      "Angka 89 adalah bilangan Ganjil\n",
      "Angka 90 adalah bilangan Genap\n",
      "Angka 91 adalah bilangan Ganjil\n",
      "Angka 92 adalah bilangan Genap\n",
      "Angka 93 adalah bilangan Ganjil\n",
      "Angka 94 adalah bilangan Genap\n",
      "Angka 95 adalah bilangan Ganjil\n",
      "Angka 96 adalah bilangan Genap\n",
      "Angka 97 adalah bilangan Ganjil\n",
      "Angka 98 adalah bilangan Genap\n",
      "Angka 99 adalah bilangan Ganjil\n"
     ]
    }
   ],
   "source": [
    "i = 1\n",
    "while i  < 100 : \n",
    "    print (\"Angka %d adalah bilangan Ganjil\"%(i)) if i % 2  else print (\"Angka %d adalah bilangan Genap\"%(i))\n",
    "    i += 1"
   ]
  },
  {
   "cell_type": "code",
   "execution_count": 72,
   "id": "d5b3403f",
   "metadata": {},
   "outputs": [
    {
     "name": "stdout",
     "output_type": "stream",
     "text": [
      "Angka 1 adalah bilangan Ganjil\n",
      "Angka 2 adalah bilangan Genap\n",
      "Angka 3 adalah bilangan Ganjil\n",
      "Angka 4 adalah bilangan Genap\n",
      "Angka 5 adalah bilangan Ganjil\n",
      "Angka 6 adalah bilangan Genap\n",
      "Angka 7 adalah bilangan Ganjil\n",
      "Angka 8 adalah bilangan Genap\n",
      "Angka 9 adalah bilangan Ganjil\n",
      "Angka 10 adalah bilangan Genap\n",
      "Angka 11 adalah bilangan Ganjil\n",
      "Angka 12 adalah bilangan Genap\n",
      "Angka 13 adalah bilangan Ganjil\n",
      "Angka 14 adalah bilangan Genap\n",
      "Angka 15 adalah bilangan Ganjil\n",
      "Angka 16 adalah bilangan Genap\n",
      "Angka 17 adalah bilangan Ganjil\n",
      "Angka 18 adalah bilangan Genap\n",
      "Angka 19 adalah bilangan Ganjil\n",
      "Angka 20 adalah bilangan Genap\n",
      "Angka 21 adalah bilangan Ganjil\n",
      "Angka 22 adalah bilangan Genap\n",
      "Angka 23 adalah bilangan Ganjil\n",
      "Angka 24 adalah bilangan Genap\n",
      "Angka 25 adalah bilangan Ganjil\n",
      "Angka 26 adalah bilangan Genap\n",
      "Angka 27 adalah bilangan Ganjil\n",
      "Angka 28 adalah bilangan Genap\n",
      "Angka 29 adalah bilangan Ganjil\n",
      "Angka 30 adalah bilangan Genap\n",
      "Angka 31 adalah bilangan Ganjil\n",
      "Angka 32 adalah bilangan Genap\n",
      "Angka 33 adalah bilangan Ganjil\n",
      "Angka 34 adalah bilangan Genap\n",
      "Angka 35 adalah bilangan Ganjil\n",
      "Angka 36 adalah bilangan Genap\n",
      "Angka 37 adalah bilangan Ganjil\n",
      "Angka 38 adalah bilangan Genap\n",
      "Angka 39 adalah bilangan Ganjil\n",
      "Angka 40 adalah bilangan Genap\n",
      "Angka 41 adalah bilangan Ganjil\n",
      "Angka 42 adalah bilangan Genap\n",
      "Angka 43 adalah bilangan Ganjil\n",
      "Angka 44 adalah bilangan Genap\n",
      "Angka 45 adalah bilangan Ganjil\n",
      "Angka 46 adalah bilangan Genap\n",
      "Angka 47 adalah bilangan Ganjil\n",
      "Angka 48 adalah bilangan Genap\n",
      "Angka 49 adalah bilangan Ganjil\n",
      "Angka 50 adalah bilangan Genap\n",
      "Angka 51 adalah bilangan Ganjil\n",
      "Angka 52 adalah bilangan Genap\n",
      "Angka 53 adalah bilangan Ganjil\n",
      "Angka 54 adalah bilangan Genap\n",
      "Angka 55 adalah bilangan Ganjil\n",
      "Angka 56 adalah bilangan Genap\n",
      "Angka 57 adalah bilangan Ganjil\n",
      "Angka 58 adalah bilangan Genap\n",
      "Angka 59 adalah bilangan Ganjil\n",
      "Angka 60 adalah bilangan Genap\n",
      "Angka 61 adalah bilangan Ganjil\n",
      "Angka 62 adalah bilangan Genap\n",
      "Angka 63 adalah bilangan Ganjil\n",
      "Angka 64 adalah bilangan Genap\n",
      "Angka 65 adalah bilangan Ganjil\n",
      "Angka 66 adalah bilangan Genap\n",
      "Angka 67 adalah bilangan Ganjil\n",
      "Angka 68 adalah bilangan Genap\n",
      "Angka 69 adalah bilangan Ganjil\n",
      "Angka 70 adalah bilangan Genap\n",
      "Angka 71 adalah bilangan Ganjil\n",
      "Angka 72 adalah bilangan Genap\n",
      "Angka 73 adalah bilangan Ganjil\n",
      "Angka 74 adalah bilangan Genap\n",
      "Angka 75 adalah bilangan Ganjil\n",
      "Angka 76 adalah bilangan Genap\n",
      "Angka 77 adalah bilangan Ganjil\n",
      "Angka 78 adalah bilangan Genap\n",
      "Angka 79 adalah bilangan Ganjil\n",
      "Angka 80 adalah bilangan Genap\n",
      "Angka 81 adalah bilangan Ganjil\n",
      "Angka 82 adalah bilangan Genap\n",
      "Angka 83 adalah bilangan Ganjil\n",
      "Angka 84 adalah bilangan Genap\n",
      "Angka 85 adalah bilangan Ganjil\n",
      "Angka 86 adalah bilangan Genap\n",
      "Angka 87 adalah bilangan Ganjil\n",
      "Angka 88 adalah bilangan Genap\n",
      "Angka 89 adalah bilangan Ganjil\n",
      "Angka 90 adalah bilangan Genap\n",
      "Angka 91 adalah bilangan Ganjil\n",
      "Angka 92 adalah bilangan Genap\n",
      "Angka 93 adalah bilangan Ganjil\n",
      "Angka 94 adalah bilangan Genap\n",
      "Angka 95 adalah bilangan Ganjil\n",
      "Angka 96 adalah bilangan Genap\n",
      "Angka 97 adalah bilangan Ganjil\n",
      "Angka 98 adalah bilangan Genap\n",
      "Angka 99 adalah bilangan Ganjil\n"
     ]
    }
   ],
   "source": [
    "for i in range (1,100): \n",
    "    print (\"Angka %d adalah bilangan Ganjil\"%(i)) if i % 2  else print (\"Angka %d adalah bilangan Genap\"%(i))"
   ]
  },
  {
   "cell_type": "code",
   "execution_count": 73,
   "id": "05b17b74",
   "metadata": {},
   "outputs": [
    {
     "name": "stdout",
     "output_type": "stream",
     "text": [
      "Angka 1 adalah bilangan Ganjil\n",
      "Angka 2 adalah bilangan Genap\n",
      "Angka 3 adalah bilangan Ganjil\n",
      "Angka 4 adalah bilangan Genap\n",
      "Angka 5 adalah bilangan Ganjil\n",
      "Angka 6 adalah bilangan Genap\n",
      "Angka 7 adalah bilangan Ganjil\n",
      "Angka 8 adalah bilangan Genap\n",
      "Angka 9 adalah bilangan Ganjil\n",
      "Angka 10 adalah bilangan Genap\n",
      "Angka 11 adalah bilangan Ganjil\n",
      "Angka 12 adalah bilangan Genap\n",
      "Angka 13 adalah bilangan Ganjil\n",
      "Angka 14 adalah bilangan Genap\n",
      "Angka 15 adalah bilangan Ganjil\n",
      "Angka 16 adalah bilangan Genap\n",
      "Angka 17 adalah bilangan Ganjil\n",
      "Angka 18 adalah bilangan Genap\n",
      "Angka 19 adalah bilangan Ganjil\n",
      "Angka 20 adalah bilangan Genap\n",
      "Angka 21 adalah bilangan Ganjil\n",
      "Angka 22 adalah bilangan Genap\n",
      "Angka 23 adalah bilangan Ganjil\n",
      "Angka 24 adalah bilangan Genap\n",
      "Angka 25 adalah bilangan Ganjil\n",
      "Angka 26 adalah bilangan Genap\n",
      "Angka 27 adalah bilangan Ganjil\n",
      "Angka 28 adalah bilangan Genap\n",
      "Angka 29 adalah bilangan Ganjil\n",
      "Angka 30 adalah bilangan Genap\n",
      "Angka 31 adalah bilangan Ganjil\n",
      "Angka 32 adalah bilangan Genap\n",
      "Angka 33 adalah bilangan Ganjil\n",
      "Angka 34 adalah bilangan Genap\n",
      "Angka 35 adalah bilangan Ganjil\n",
      "Angka 36 adalah bilangan Genap\n",
      "Angka 37 adalah bilangan Ganjil\n",
      "Angka 38 adalah bilangan Genap\n",
      "Angka 39 adalah bilangan Ganjil\n",
      "Angka 40 adalah bilangan Genap\n",
      "Angka 41 adalah bilangan Ganjil\n",
      "Angka 42 adalah bilangan Genap\n",
      "Angka 43 adalah bilangan Ganjil\n",
      "Angka 44 adalah bilangan Genap\n",
      "Angka 45 adalah bilangan Ganjil\n",
      "Angka 46 adalah bilangan Genap\n",
      "Angka 47 adalah bilangan Ganjil\n",
      "Angka 48 adalah bilangan Genap\n",
      "Angka 49 adalah bilangan Ganjil\n",
      "Angka 50 adalah bilangan Genap\n",
      "Angka 51 adalah bilangan Ganjil\n",
      "Angka 52 adalah bilangan Genap\n",
      "Angka 53 adalah bilangan Ganjil\n",
      "Angka 54 adalah bilangan Genap\n",
      "Angka 55 adalah bilangan Ganjil\n",
      "Angka 56 adalah bilangan Genap\n",
      "Angka 57 adalah bilangan Ganjil\n",
      "Angka 58 adalah bilangan Genap\n",
      "Angka 59 adalah bilangan Ganjil\n",
      "Angka 60 adalah bilangan Genap\n",
      "Angka 61 adalah bilangan Ganjil\n",
      "Angka 62 adalah bilangan Genap\n",
      "Angka 63 adalah bilangan Ganjil\n",
      "Angka 64 adalah bilangan Genap\n",
      "Angka 65 adalah bilangan Ganjil\n",
      "Angka 66 adalah bilangan Genap\n",
      "Angka 67 adalah bilangan Ganjil\n",
      "Angka 68 adalah bilangan Genap\n",
      "Angka 69 adalah bilangan Ganjil\n",
      "Angka 70 adalah bilangan Genap\n",
      "Angka 71 adalah bilangan Ganjil\n",
      "Angka 72 adalah bilangan Genap\n",
      "Angka 73 adalah bilangan Ganjil\n",
      "Angka 74 adalah bilangan Genap\n",
      "Angka 75 adalah bilangan Ganjil\n",
      "Angka 76 adalah bilangan Genap\n",
      "Angka 77 adalah bilangan Ganjil\n",
      "Angka 78 adalah bilangan Genap\n",
      "Angka 79 adalah bilangan Ganjil\n",
      "Angka 80 adalah bilangan Genap\n",
      "Angka 81 adalah bilangan Ganjil\n",
      "Angka 82 adalah bilangan Genap\n",
      "Angka 83 adalah bilangan Ganjil\n",
      "Angka 84 adalah bilangan Genap\n",
      "Angka 85 adalah bilangan Ganjil\n",
      "Angka 86 adalah bilangan Genap\n",
      "Angka 87 adalah bilangan Ganjil\n",
      "Angka 88 adalah bilangan Genap\n",
      "Angka 89 adalah bilangan Ganjil\n",
      "Angka 90 adalah bilangan Genap\n",
      "Angka 91 adalah bilangan Ganjil\n",
      "Angka 92 adalah bilangan Genap\n",
      "Angka 93 adalah bilangan Ganjil\n",
      "Angka 94 adalah bilangan Genap\n",
      "Angka 95 adalah bilangan Ganjil\n",
      "Angka 96 adalah bilangan Genap\n",
      "Angka 97 adalah bilangan Ganjil\n",
      "Angka 98 adalah bilangan Genap\n",
      "Angka 99 adalah bilangan Ganjil\n"
     ]
    }
   ],
   "source": [
    "for i in range (1,100): print (\"Angka %d adalah bilangan Ganjil\"%(i)) if i % 2  else print (\"Angka %d adalah bilangan Genap\"%(i))"
   ]
  },
  {
   "cell_type": "code",
   "execution_count": 75,
   "id": "8d35423a",
   "metadata": {},
   "outputs": [
    {
     "name": "stdout",
     "output_type": "stream",
     "text": [
      "aq lagi belajar python for data science ni\n",
      "aq lagi belajar python for data science ni\n"
     ]
    }
   ],
   "source": [
    "# Slicing with negative indexing\n",
    "s =  \"halo, aq lagi belajar python for data science nih\"\n",
    "print (s[6:-1])\n",
    "print (s[6:len(s)-1])"
   ]
  },
  {
   "cell_type": "code",
   "execution_count": 76,
   "id": "1d26a0b1",
   "metadata": {},
   "outputs": [
    {
     "name": "stdout",
     "output_type": "stream",
     "text": [
      "Halo, aq lagi belajar python for data science nih\n"
     ]
    }
   ],
   "source": [
    "print (s.capitalize())"
   ]
  },
  {
   "cell_type": "code",
   "execution_count": 77,
   "id": "d86bc93e",
   "metadata": {},
   "outputs": [
    {
     "name": "stdout",
     "output_type": "stream",
     "text": [
      "HALO, AQ LAGI BELAJAR PYTHON FOR DATA SCIENCE NIH\n"
     ]
    }
   ],
   "source": [
    "print (s.upper())"
   ]
  },
  {
   "cell_type": "code",
   "execution_count": 78,
   "id": "95e953e7",
   "metadata": {},
   "outputs": [
    {
     "name": "stdout",
     "output_type": "stream",
     "text": [
      "halo, aq lagi belajar python for data science nih\n"
     ]
    }
   ],
   "source": [
    "print (s.lower())"
   ]
  },
  {
   "cell_type": "code",
   "execution_count": 81,
   "id": "ba260bd6",
   "metadata": {},
   "outputs": [
    {
     "name": "stdout",
     "output_type": "stream",
     "text": [
      "['halo', ' aq lagi belajar python for data science nih']\n"
     ]
    }
   ],
   "source": [
    "t =s.split(',')\n",
    "print (t)"
   ]
  },
  {
   "cell_type": "code",
   "execution_count": 82,
   "id": "7fd5567f",
   "metadata": {},
   "outputs": [
    {
     "name": "stdout",
     "output_type": "stream",
     "text": [
      "Hello World66\n"
     ]
    }
   ],
   "source": [
    "a = \"Hello\"\n",
    "b =  \"World\"\n",
    "c = 66\n",
    "d = a + ' ' + b + str(c)\n",
    "print (d)"
   ]
  },
  {
   "cell_type": "code",
   "execution_count": 83,
   "id": "36fbaf5c",
   "metadata": {},
   "outputs": [
    {
     "name": "stdout",
     "output_type": "stream",
     "text": [
      "saya beli produk 121 sejumlah 2 dengan harga produk 500000\n"
     ]
    }
   ],
   "source": [
    "qty = 2\n",
    "product = 121\n",
    "harga = 500000\n",
    "myorder = \"saya beli produk {} sejumlah {} dengan harga produk {}\"\n",
    "print (myorder.format(product,qty,harga))"
   ]
  },
  {
   "cell_type": "code",
   "execution_count": 92,
   "id": "5483b25f",
   "metadata": {},
   "outputs": [
    {
     "name": "stdout",
     "output_type": "stream",
     "text": [
      "gfedcba\n",
      "gfedcba\n"
     ]
    }
   ],
   "source": [
    "str = 'abcdefg'\n",
    "print (str[::-1])\n",
    "print (''.join(reversed(str)))"
   ]
  },
  {
   "cell_type": "code",
   "execution_count": 101,
   "id": "44d0a8b1",
   "metadata": {},
   "outputs": [
    {
     "name": "stdout",
     "output_type": "stream",
     "text": [
      "3\n"
     ]
    }
   ],
   "source": [
    "strp = \" Selamat Belajar Python. Belajar Python seru banget!.I love Python\"\n",
    "search = \"Python\"\n",
    "count = strp.lower().count(search.lower())\n",
    "strp.count(search)\n",
    "print (count)"
   ]
  },
  {
   "cell_type": "code",
   "execution_count": null,
   "id": "fedecd7a",
   "metadata": {},
   "outputs": [],
   "source": []
  }
 ],
 "metadata": {
  "kernelspec": {
   "display_name": "Python 3 (ipykernel)",
   "language": "python",
   "name": "python3"
  },
  "language_info": {
   "codemirror_mode": {
    "name": "ipython",
    "version": 3
   },
   "file_extension": ".py",
   "mimetype": "text/x-python",
   "name": "python",
   "nbconvert_exporter": "python",
   "pygments_lexer": "ipython3",
   "version": "3.10.9"
  }
 },
 "nbformat": 4,
 "nbformat_minor": 5
}
